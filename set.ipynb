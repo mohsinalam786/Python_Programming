{
 "cells": [
  {
   "cell_type": "code",
   "execution_count": 9,
   "id": "55439b84-1175-4105-86d2-4b8c5c90554b",
   "metadata": {},
   "outputs": [],
   "source": [
    "s1={\"goldan\",\"mohsin\",\"imran\",\"goldan\"}"
   ]
  },
  {
   "cell_type": "code",
   "execution_count": 11,
   "id": "cc96e02a-e83d-4912-b1c7-57ca2684d623",
   "metadata": {},
   "outputs": [
    {
     "data": {
      "text/plain": [
       "{'goldan', 'imran', 'mohsin'}"
      ]
     },
     "execution_count": 11,
     "metadata": {},
     "output_type": "execute_result"
    }
   ],
   "source": [
    "s1"
   ]
  },
  {
   "cell_type": "code",
   "execution_count": 15,
   "id": "fdb1773e-38d2-4bfb-abc1-412c33b4f954",
   "metadata": {},
   "outputs": [
    {
     "data": {
      "text/plain": [
       "{'g', 'goldan', 'imran', 'mohsin'}"
      ]
     },
     "execution_count": 15,
     "metadata": {},
     "output_type": "execute_result"
    }
   ],
   "source": [
    "# add set items\n",
    "s1.add('g')\n",
    "s1"
   ]
  },
  {
   "cell_type": "code",
   "execution_count": 17,
   "id": "b2b7b70c-74a3-4c07-8c38-b8acba9f234f",
   "metadata": {},
   "outputs": [],
   "source": [
    "s2={\"goldan\",\"imran\",\"yasin\"}"
   ]
  },
  {
   "cell_type": "code",
   "execution_count": 19,
   "id": "cf6eb47e-4ff3-4a66-b847-f196dd688d8a",
   "metadata": {},
   "outputs": [
    {
     "data": {
      "text/plain": [
       "{'goldan', 'imran', 'yasin'}"
      ]
     },
     "execution_count": 19,
     "metadata": {},
     "output_type": "execute_result"
    }
   ],
   "source": [
    "s2"
   ]
  },
  {
   "cell_type": "code",
   "execution_count": 21,
   "id": "2648405a-d397-4ad9-af60-3507c1e897e1",
   "metadata": {},
   "outputs": [],
   "source": [
    "s1.update(s2)"
   ]
  },
  {
   "cell_type": "code",
   "execution_count": 23,
   "id": "4d6fbf84-aa2e-454b-b6f3-086c333a7e68",
   "metadata": {},
   "outputs": [
    {
     "data": {
      "text/plain": [
       "{'g', 'goldan', 'imran', 'mohsin', 'yasin'}"
      ]
     },
     "execution_count": 23,
     "metadata": {},
     "output_type": "execute_result"
    }
   ],
   "source": [
    "s1"
   ]
  },
  {
   "cell_type": "code",
   "execution_count": 32,
   "id": "be00a4ca-7293-4194-97d3-54f815ed8dbe",
   "metadata": {},
   "outputs": [],
   "source": [
    "s4={\"goldan\",\"imran\",\"yasin\"}\n",
    "s4.remove(\"goldan\")"
   ]
  },
  {
   "cell_type": "code",
   "execution_count": 34,
   "id": "34e6323d-2500-4ae4-a861-4e0c15924472",
   "metadata": {},
   "outputs": [
    {
     "data": {
      "text/plain": [
       "{'imran', 'yasin'}"
      ]
     },
     "execution_count": 34,
     "metadata": {},
     "output_type": "execute_result"
    }
   ],
   "source": [
    "s4"
   ]
  },
  {
   "cell_type": "code",
   "execution_count": 36,
   "id": "94494cfe-85b1-48ac-9e57-dc4483449445",
   "metadata": {},
   "outputs": [
    {
     "data": {
      "text/plain": [
       "'yasin'"
      ]
     },
     "execution_count": 36,
     "metadata": {},
     "output_type": "execute_result"
    }
   ],
   "source": [
    "s4.pop()"
   ]
  },
  {
   "cell_type": "code",
   "execution_count": 38,
   "id": "b6a29889-6d43-4303-aca2-bd9abad8362d",
   "metadata": {},
   "outputs": [
    {
     "name": "stdout",
     "output_type": "stream",
     "text": [
      "{'c', 1, 2, 3, 'a', 'b'}\n"
     ]
    }
   ],
   "source": [
    "set1 = {\"a\", \"b\", \"c\"}            #join.set\n",
    "set2 = {1, 2, 3}\n",
    "\n",
    "set3 = set1.union(set2)\n",
    "print(set3)\n"
   ]
  },
  {
   "cell_type": "code",
   "execution_count": 40,
   "id": "d8e94ccc-dfa9-4381-aaef-0d1fae924887",
   "metadata": {},
   "outputs": [
    {
     "name": "stdout",
     "output_type": "stream",
     "text": [
      "{'c', 1, 2, 3, 'a', 'b'}\n"
     ]
    }
   ],
   "source": [
    "set1 = {\"a\", \"b\", \"c\"}\n",
    "set2 = {1, 2, 3}\n",
    "\n",
    "set3 = set1 | set2\n",
    "print(set3)\n"
   ]
  },
  {
   "cell_type": "code",
   "execution_count": 42,
   "id": "451124cb-3e71-4dd3-b011-c916e35799ac",
   "metadata": {},
   "outputs": [
    {
     "name": "stdout",
     "output_type": "stream",
     "text": [
      "{1, 2, 3, 'cherry', 'a', 'b', 'bananas', 'John', 'c', 'Elena', 'apple'}\n"
     ]
    }
   ],
   "source": [
    "set1 = {\"a\", \"b\", \"c\"}\n",
    "set2 = {1, 2, 3}\n",
    "set3 = {\"John\", \"Elena\"}\n",
    "set4 = {\"apple\", \"bananas\", \"cherry\"}\n",
    "\n",
    "myset = set1.union(set2, set3, set4)\n",
    "print(myset)\n"
   ]
  },
  {
   "cell_type": "code",
   "execution_count": 44,
   "id": "9a38bd1a-2b80-4ef2-b757-79a6b9757fdb",
   "metadata": {},
   "outputs": [
    {
     "name": "stdout",
     "output_type": "stream",
     "text": [
      "{1, 2, 3, 'cherry', 'a', 'b', 'bananas', 'John', 'c', 'Elena', 'apple'}\n"
     ]
    }
   ],
   "source": [
    "set1 = {\"a\", \"b\", \"c\"}\n",
    "set2 = {1, 2, 3}\n",
    "set3 = {\"John\", \"Elena\"}\n",
    "set4 = {\"apple\", \"bananas\", \"cherry\"}\n",
    "\n",
    "myset = set1.union(set2, set3, set4)\n",
    "print(myset)\n"
   ]
  },
  {
   "cell_type": "code",
   "execution_count": null,
   "id": "3d3bd14d-ff5d-4f96-9d88-9f42794f3d3c",
   "metadata": {},
   "outputs": [],
   "source": []
  }
 ],
 "metadata": {
  "kernelspec": {
   "display_name": "Python [conda env:base] *",
   "language": "python",
   "name": "conda-base-py"
  },
  "language_info": {
   "codemirror_mode": {
    "name": "ipython",
    "version": 3
   },
   "file_extension": ".py",
   "mimetype": "text/x-python",
   "name": "python",
   "nbconvert_exporter": "python",
   "pygments_lexer": "ipython3",
   "version": "3.12.7"
  }
 },
 "nbformat": 4,
 "nbformat_minor": 5
}
