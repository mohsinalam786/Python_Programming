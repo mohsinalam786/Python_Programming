{
 "cells": [
  {
   "cell_type": "code",
   "execution_count": 1,
   "id": "444e331f-622b-4367-9da6-213268d4cdad",
   "metadata": {},
   "outputs": [
    {
     "name": "stdout",
     "output_type": "stream",
     "text": [
      "('AAFT',)\n"
     ]
    }
   ],
   "source": [
    "# for creating single element tuple\n",
    "\n",
    "t1=('AAFT',)\n",
    "print(t1)\n"
   ]
  },
  {
   "cell_type": "code",
   "execution_count": 3,
   "id": "610def13-0cf7-4e7f-8840-e2081c54753c",
   "metadata": {},
   "outputs": [
    {
     "name": "stdout",
     "output_type": "stream",
     "text": [
      "<class 'tuple'>\n"
     ]
    }
   ],
   "source": [
    "print(type(t1))"
   ]
  },
  {
   "cell_type": "code",
   "execution_count": 5,
   "id": "8629dd46-46ca-44e8-bae2-d88d89177550",
   "metadata": {},
   "outputs": [
    {
     "name": "stdout",
     "output_type": "stream",
     "text": [
      "<class 'tuple'>\n"
     ]
    }
   ],
   "source": [
    "t2=(1,)\n",
    "print(type(t2))\n",
    "     "
   ]
  },
  {
   "cell_type": "code",
   "execution_count": 7,
   "id": "496db922-0226-4d26-b983-ee8a0fcda6b3",
   "metadata": {},
   "outputs": [
    {
     "name": "stdout",
     "output_type": "stream",
     "text": [
      "<class 'tuple'>\n"
     ]
    }
   ],
   "source": [
    "#Changes in Tuple\n",
    "\n",
    "x=(\"A\",\"B\",\"C\")\n",
    "print(type(x))\n",
    "     "
   ]
  },
  {
   "cell_type": "code",
   "execution_count": 9,
   "id": "9c5341b3-6fae-4236-b64c-e78d910aedd7",
   "metadata": {},
   "outputs": [
    {
     "name": "stdout",
     "output_type": "stream",
     "text": [
      "['A', 'B', 'C']\n",
      "<class 'list'>\n"
     ]
    }
   ],
   "source": [
    "y=list(x)\n",
    "print(y)\n",
    "print(type(y))\n",
    "     "
   ]
  },
  {
   "cell_type": "code",
   "execution_count": 11,
   "id": "e648e68a-235b-4fb6-ac4e-fed0578d9555",
   "metadata": {},
   "outputs": [],
   "source": [
    "t1=(1,2,3,4,5)"
   ]
  },
  {
   "cell_type": "code",
   "execution_count": 13,
   "id": "33ffb064-0951-4516-bd3d-d883c30c9b4d",
   "metadata": {},
   "outputs": [
    {
     "name": "stdout",
     "output_type": "stream",
     "text": [
      "(1, 2, 3, 4, 5)\n"
     ]
    }
   ],
   "source": [
    "print(t1)"
   ]
  },
  {
   "cell_type": "code",
   "execution_count": 15,
   "id": "b800f325-e681-4ce3-97ec-b379b43d02f1",
   "metadata": {},
   "outputs": [],
   "source": [
    "t2=(\"A\",\"B\",\"C\",\"D\",\"E\")\n",
    "y=list(t2)\n",
    "     \n"
   ]
  },
  {
   "cell_type": "code",
   "execution_count": 17,
   "id": "27f1ce1a-e059-4400-a968-8e23854a496e",
   "metadata": {},
   "outputs": [
    {
     "name": "stdout",
     "output_type": "stream",
     "text": [
      "('A', 'B', 'C', 'D', 'E')\n"
     ]
    }
   ],
   "source": [
    "print(t2)"
   ]
  },
  {
   "cell_type": "code",
   "execution_count": 19,
   "id": "e0162874-a418-4b27-84c0-2b2974d40440",
   "metadata": {},
   "outputs": [],
   "source": [
    "t3=('goldan', 'imran', 'yasin', 'bilal', 'ahamd', 'rehan', 'jishan', 'numaan', 'rabiya')"
   ]
  },
  {
   "cell_type": "code",
   "execution_count": 21,
   "id": "4d6daf1c-0c2b-45ae-b8a6-4922db16b80c",
   "metadata": {},
   "outputs": [
    {
     "name": "stdout",
     "output_type": "stream",
     "text": [
      "('goldan', 'imran', 'yasin', 'bilal', 'ahamd', 'rehan', 'jishan', 'numaan', 'rabiya')\n"
     ]
    }
   ],
   "source": [
    "print(t3)"
   ]
  },
  {
   "cell_type": "code",
   "execution_count": 23,
   "id": "7842e94e-d00a-413a-a457-c472d2d789dc",
   "metadata": {},
   "outputs": [],
   "source": [
    "tuple1 = (\"apple\", \"banana\", \"cherry\")\n",
    "tuple2 = (1, 5, 7, 9, 3)\n",
    "tuple3 = (True, False, False)\n"
   ]
  },
  {
   "cell_type": "code",
   "execution_count": 25,
   "id": "3efd3236-ccc3-4ae9-a149-19fda15df3c8",
   "metadata": {},
   "outputs": [
    {
     "name": "stdout",
     "output_type": "stream",
     "text": [
      "('apple', 'banana', 'cherry') (1, 5, 7, 9, 3) (True, False, False)\n"
     ]
    }
   ],
   "source": [
    "print(tuple1,tuple2,tuple3)"
   ]
  },
  {
   "cell_type": "code",
   "execution_count": null,
   "id": "af3baa97-3cce-4f60-9fd7-5106fba0d457",
   "metadata": {},
   "outputs": [],
   "source": []
  }
 ],
 "metadata": {
  "kernelspec": {
   "display_name": "Python [conda env:base] *",
   "language": "python",
   "name": "conda-base-py"
  },
  "language_info": {
   "codemirror_mode": {
    "name": "ipython",
    "version": 3
   },
   "file_extension": ".py",
   "mimetype": "text/x-python",
   "name": "python",
   "nbconvert_exporter": "python",
   "pygments_lexer": "ipython3",
   "version": "3.12.7"
  }
 },
 "nbformat": 4,
 "nbformat_minor": 5
}
