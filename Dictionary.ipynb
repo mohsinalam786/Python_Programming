{
 "cells": [
  {
   "cell_type": "code",
   "execution_count": 1,
   "id": "1eb3c8a4-0c2a-489f-9f27-b0aa6ab06273",
   "metadata": {},
   "outputs": [
    {
     "name": "stdout",
     "output_type": "stream",
     "text": [
      "{'brand': 'BMW', 'model': 'iX', 'year': 1964}\n"
     ]
    }
   ],
   "source": [
    "car_dict={\"brand\":\"BMW\",\"model\":\"iX\",\"year\":1964}\n",
    "print(car_dict)\n",
    "     "
   ]
  },
  {
   "cell_type": "code",
   "execution_count": 3,
   "id": "e8c4d7e9-e9df-459f-8619-6c9af3a475f8",
   "metadata": {},
   "outputs": [
    {
     "name": "stdout",
     "output_type": "stream",
     "text": [
      "BMW\n"
     ]
    }
   ],
   "source": [
    "#Accessing Dictionary elements\n",
    "print(car_dict['brand'])"
   ]
  },
  {
   "cell_type": "code",
   "execution_count": 5,
   "id": "69efe1fc-a0b0-4dd6-8b98-a823a212561b",
   "metadata": {},
   "outputs": [
    {
     "name": "stdout",
     "output_type": "stream",
     "text": [
      "3\n"
     ]
    }
   ],
   "source": [
    "# Length of Dictionary\n",
    "print(len(car_dict))"
   ]
  },
  {
   "cell_type": "code",
   "execution_count": 7,
   "id": "ece47aa4-8dda-4df4-ad77-2e67155c92ce",
   "metadata": {},
   "outputs": [
    {
     "name": "stdout",
     "output_type": "stream",
     "text": [
      "<class 'dict'>\n"
     ]
    }
   ],
   "source": [
    "# Type of Data\n",
    "print(type(car_dict))"
   ]
  },
  {
   "cell_type": "code",
   "execution_count": 9,
   "id": "dd8fd8ef-379e-41eb-ace3-ffd893f798af",
   "metadata": {},
   "outputs": [],
   "source": [
    "\n",
    "# For Duplicate keys\n",
    "car_dict2={\"brand\":\"BMW\",\"model\":\"iX\",\"year\":1964,\"year\":2000}"
   ]
  },
  {
   "cell_type": "code",
   "execution_count": 11,
   "id": "b55e1429-82c1-4cf2-8b0f-2b3869bfca9f",
   "metadata": {},
   "outputs": [
    {
     "data": {
      "text/plain": [
       "{'brand': 'BMW', 'model': 'iX', 'year': 2000}"
      ]
     },
     "execution_count": 11,
     "metadata": {},
     "output_type": "execute_result"
    }
   ],
   "source": [
    "car_dict2"
   ]
  },
  {
   "cell_type": "code",
   "execution_count": 13,
   "id": "7f9199e4-22ce-4bf9-9939-17433f239da0",
   "metadata": {},
   "outputs": [
    {
     "data": {
      "text/plain": [
       "{'brand': 'BMW', 'model': 'iX', 'year': 2000}"
      ]
     },
     "execution_count": 13,
     "metadata": {},
     "output_type": "execute_result"
    }
   ],
   "source": [
    "car_dict3={\"brand\":\"BMW\",\"model\":\"iX\",\"year\":2024,\"year\":2000}\n",
    "     \n",
    "\n",
    "car_dict3\n",
    "     "
   ]
  },
  {
   "cell_type": "code",
   "execution_count": 15,
   "id": "3fd127d5-254e-4e7e-9ed9-cd8115f921dd",
   "metadata": {},
   "outputs": [
    {
     "data": {
      "text/plain": [
       "'iX'"
      ]
     },
     "execution_count": 15,
     "metadata": {},
     "output_type": "execute_result"
    }
   ],
   "source": [
    "# For Accessing Dict items\n",
    "x=car_dict.get(\"model\")\n",
    "     \n",
    "\n",
    "x"
   ]
  },
  {
   "cell_type": "code",
   "execution_count": 17,
   "id": "80810829-08e6-4eb6-9564-6b564cd24fb8",
   "metadata": {},
   "outputs": [
    {
     "data": {
      "text/plain": [
       "dict_keys(['brand', 'model', 'year'])"
      ]
     },
     "execution_count": 17,
     "metadata": {},
     "output_type": "execute_result"
    }
   ],
   "source": [
    "#The keys() method will return a list of all the keys in the dictionary.\n",
    "car_dict.keys()\n",
    "\n"
   ]
  },
  {
   "cell_type": "code",
   "execution_count": 19,
   "id": "5fe45ea1-70e1-426a-974d-eeb498fe9ac1",
   "metadata": {},
   "outputs": [
    {
     "data": {
      "text/plain": [
       "dict_keys(['brand', 'model', 'year'])"
      ]
     },
     "execution_count": 19,
     "metadata": {},
     "output_type": "execute_result"
    }
   ],
   "source": [
    "#The keys() method will return a list of all the keys in the dictionary.\n",
    "car_dict.keys()\n",
    "     "
   ]
  },
  {
   "cell_type": "code",
   "execution_count": 21,
   "id": "f7cead6e-6dde-4450-9d3c-1727ad49f7c5",
   "metadata": {},
   "outputs": [],
   "source": [
    "# To change vlaues of Dictionary\n",
    "car_dict[\"year\"]=2024\n",
    "     "
   ]
  },
  {
   "cell_type": "code",
   "execution_count": 23,
   "id": "e6d0a82f-57c2-46ad-bf4f-045efd8e32a5",
   "metadata": {},
   "outputs": [
    {
     "data": {
      "text/plain": [
       "{'brand': 'BMW', 'model': 'iX', 'year': 2024}"
      ]
     },
     "execution_count": 23,
     "metadata": {},
     "output_type": "execute_result"
    }
   ],
   "source": [
    "car_dict"
   ]
  },
  {
   "cell_type": "code",
   "execution_count": 25,
   "id": "2dca46ad-ade8-4264-a74a-2378ea86bf37",
   "metadata": {},
   "outputs": [
    {
     "data": {
      "text/plain": [
       "{'brand': 'BMW', 'model': 'iX', 'year': 2024, 'color': 'White'}"
      ]
     },
     "execution_count": 25,
     "metadata": {},
     "output_type": "execute_result"
    }
   ],
   "source": [
    "# To add new key:value in dictionary\n",
    "car_dict[\"color\"]=\"White\"\n",
    "     \n",
    "\n",
    "car_dict"
   ]
  },
  {
   "cell_type": "code",
   "execution_count": 27,
   "id": "50d368f7-5aef-4309-b142-ac92c255fa77",
   "metadata": {},
   "outputs": [
    {
     "name": "stdout",
     "output_type": "stream",
     "text": [
      "{'name': 'A', 'year': 2023, 'Pass': True, 'Marks': [50, 60, 70]}\n"
     ]
    }
   ],
   "source": [
    "#The values in dictionary items can be of any data type\n",
    "d3={\"name\":\"A\",'year':2023,'Pass':True,'Marks':[50,60,70]}\n",
    "     \n",
    "\n",
    "print(d3)"
   ]
  },
  {
   "cell_type": "code",
   "execution_count": 29,
   "id": "b8f767a3-7747-4972-845b-e18e597a1785",
   "metadata": {},
   "outputs": [
    {
     "data": {
      "text/plain": [
       "{'name': 'A',\n",
       " 'year': 2024,\n",
       " 'Pass': True,\n",
       " 'Marks': [50, 60, 70],\n",
       " 'phone_no': 94566}"
      ]
     },
     "execution_count": 29,
     "metadata": {},
     "output_type": "execute_result"
    }
   ],
   "source": [
    "d3.update({'year':2024})\n",
    "     \n",
    "\n",
    "d3['phone_no']=94566\n",
    "     \n",
    "\n",
    "d3\n",
    "     "
   ]
  },
  {
   "cell_type": "code",
   "execution_count": 31,
   "id": "58a2541d-62af-418d-bd30-c5b4ce3011f4",
   "metadata": {},
   "outputs": [
    {
     "data": {
      "text/plain": [
       "{'name': 'A',\n",
       " 'year': 2024,\n",
       " 'Pass': True,\n",
       " 'Marks': [50, 60, 70],\n",
       " 'phone_no': 94566,\n",
       " 'email': 'asdf@gmail.com'}"
      ]
     },
     "execution_count": 31,
     "metadata": {},
     "output_type": "execute_result"
    }
   ],
   "source": [
    "d3.update({'email':'asdf@gmail.com'})\n",
    "     \n",
    "\n",
    "d3\n",
    "     "
   ]
  },
  {
   "cell_type": "code",
   "execution_count": 33,
   "id": "4bced4a4-e010-43a3-a197-338bca7c7330",
   "metadata": {},
   "outputs": [
    {
     "data": {
      "text/plain": [
       "{'name': 'A',\n",
       " 'year': 2024,\n",
       " 'Pass': True,\n",
       " 'Marks': [50, 60, 70],\n",
       " 'email': 'asdf@gmail.com'}"
      ]
     },
     "execution_count": 33,
     "metadata": {},
     "output_type": "execute_result"
    }
   ],
   "source": [
    "# For Removing Dictionary items\n",
    "#The pop() method removes the item with the specified key name:\n",
    "\n",
    "d3.pop('phone_no')\n",
    "     \n",
    "94566\n",
    "\n",
    "d3\n",
    "     "
   ]
  },
  {
   "cell_type": "code",
   "execution_count": null,
   "id": "f1ea2b6f-1049-431c-b289-8a6af7c03815",
   "metadata": {},
   "outputs": [],
   "source": []
  }
 ],
 "metadata": {
  "kernelspec": {
   "display_name": "Python [conda env:base] *",
   "language": "python",
   "name": "conda-base-py"
  },
  "language_info": {
   "codemirror_mode": {
    "name": "ipython",
    "version": 3
   },
   "file_extension": ".py",
   "mimetype": "text/x-python",
   "name": "python",
   "nbconvert_exporter": "python",
   "pygments_lexer": "ipython3",
   "version": "3.12.7"
  }
 },
 "nbformat": 4,
 "nbformat_minor": 5
}
