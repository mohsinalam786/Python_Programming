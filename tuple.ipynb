{
 "cells": [
  {
   "cell_type": "code",
   "execution_count": 216,
   "id": "88861d98-702a-4d24-81bb-445945aace45",
   "metadata": {},
   "outputs": [],
   "source": [
    "t1=(1,2,3,4)"
   ]
  },
  {
   "cell_type": "code",
   "execution_count": 217,
   "id": "00501c42-f906-4b0b-9af9-5235df988da2",
   "metadata": {},
   "outputs": [
    {
     "data": {
      "text/plain": [
       "(1, 2, 3, 4)"
      ]
     },
     "execution_count": 217,
     "metadata": {},
     "output_type": "execute_result"
    }
   ],
   "source": [
    "t1"
   ]
  },
  {
   "cell_type": "code",
   "execution_count": 218,
   "id": "e51a9694-b4d1-4574-a235-8fef10a50356",
   "metadata": {},
   "outputs": [
    {
     "name": "stdout",
     "output_type": "stream",
     "text": [
      "<class 'tuple'>\n"
     ]
    }
   ],
   "source": [
    "print(type(t1))"
   ]
  },
  {
   "cell_type": "code",
   "execution_count": 219,
   "id": "4475a1eb-0e6b-4d71-9efa-3ab577ccdbf8",
   "metadata": {},
   "outputs": [],
   "source": [
    "t2=(1,2,2,3,3,3)"
   ]
  },
  {
   "cell_type": "code",
   "execution_count": 220,
   "id": "3afc571f-3c78-414a-b2c4-b45a11410dbf",
   "metadata": {},
   "outputs": [
    {
     "data": {
      "text/plain": [
       "(1, 2, 2, 3, 3, 3)"
      ]
     },
     "execution_count": 220,
     "metadata": {},
     "output_type": "execute_result"
    }
   ],
   "source": [
    "t2"
   ]
  },
  {
   "cell_type": "code",
   "execution_count": 221,
   "id": "3c8d5acf-0a88-44c3-9e42-4c57b12e8b19",
   "metadata": {},
   "outputs": [
    {
     "name": "stdout",
     "output_type": "stream",
     "text": [
      "(1, 2, 3, 4)\n"
     ]
    }
   ],
   "source": [
    "#t1[1]=('a')\n",
    "print(t1)"
   ]
  },
  {
   "cell_type": "code",
   "execution_count": 222,
   "id": "67c95677-59ed-486d-ab98-7b58ff6f2983",
   "metadata": {},
   "outputs": [
    {
     "name": "stdout",
     "output_type": "stream",
     "text": [
      "4\n"
     ]
    }
   ],
   "source": [
    "print(len(t1))"
   ]
  },
  {
   "cell_type": "code",
   "execution_count": 223,
   "id": "d36063c7-d57d-47d9-8572-2863037de32f",
   "metadata": {},
   "outputs": [
    {
     "name": "stdout",
     "output_type": "stream",
     "text": [
      "6\n"
     ]
    }
   ],
   "source": [
    "print(len(t2))"
   ]
  },
  {
   "cell_type": "code",
   "execution_count": 224,
   "id": "d469b61d-d310-4bc7-b59d-28a0fb807b53",
   "metadata": {},
   "outputs": [],
   "source": [
    "t3=('goldan', 'imran', 'yasin', 'bilal', 'ahamd', 'rehan', 'jishan', 'numaan', 'rabiya')"
   ]
  },
  {
   "cell_type": "code",
   "execution_count": 225,
   "id": "b5f8b704-0751-4978-8f7e-e946afbc0be4",
   "metadata": {},
   "outputs": [
    {
     "data": {
      "text/plain": [
       "('goldan',\n",
       " 'imran',\n",
       " 'yasin',\n",
       " 'bilal',\n",
       " 'ahamd',\n",
       " 'rehan',\n",
       " 'jishan',\n",
       " 'numaan',\n",
       " 'rabiya')"
      ]
     },
     "execution_count": 225,
     "metadata": {},
     "output_type": "execute_result"
    }
   ],
   "source": [
    "t3"
   ]
  },
  {
   "cell_type": "code",
   "execution_count": 226,
   "id": "fc33e92f-ba58-462f-9936-9ba7ab318a2f",
   "metadata": {},
   "outputs": [
    {
     "name": "stdout",
     "output_type": "stream",
     "text": [
      "<class 'tuple'>\n"
     ]
    }
   ],
   "source": [
    "print(type(t3))"
   ]
  },
  {
   "cell_type": "code",
   "execution_count": 227,
   "id": "a6fc21b5-8eef-4b00-b714-f0f2ebfae242",
   "metadata": {},
   "outputs": [
    {
     "name": "stdout",
     "output_type": "stream",
     "text": [
      "9\n"
     ]
    }
   ],
   "source": [
    "print(len(t3))"
   ]
  },
  {
   "cell_type": "code",
   "execution_count": 228,
   "id": "4a07a948-b5e2-4bc5-98e4-54444d271553",
   "metadata": {},
   "outputs": [],
   "source": [
    "t4=(12,)"
   ]
  },
  {
   "cell_type": "code",
   "execution_count": 229,
   "id": "8bd1124f-a855-4f0a-b8a5-ec2a9597cea3",
   "metadata": {},
   "outputs": [
    {
     "data": {
      "text/plain": [
       "(12,)"
      ]
     },
     "execution_count": 229,
     "metadata": {},
     "output_type": "execute_result"
    }
   ],
   "source": [
    "t4"
   ]
  },
  {
   "cell_type": "code",
   "execution_count": 230,
   "id": "190ee4dc-531b-4e1c-9c4a-fd880f78c1b9",
   "metadata": {},
   "outputs": [
    {
     "name": "stdout",
     "output_type": "stream",
     "text": [
      "<class 'tuple'>\n"
     ]
    }
   ],
   "source": [
    "print(type(t4))"
   ]
  },
  {
   "cell_type": "code",
   "execution_count": 231,
   "id": "3998d1b3-c439-4e3b-8113-9946e4698a45",
   "metadata": {},
   "outputs": [],
   "source": [
    "t3=('goldan', 'imran', 'yasin', 'bilal', 'ahamd', 'rehan', 'jishan', 'numaan', 'rabiya')"
   ]
  },
  {
   "cell_type": "code",
   "execution_count": 232,
   "id": "b62a4014-258a-46fd-ac03-24ca1ce12110",
   "metadata": {},
   "outputs": [
    {
     "data": {
      "text/plain": [
       "('goldan',\n",
       " 'imran',\n",
       " 'yasin',\n",
       " 'bilal',\n",
       " 'ahamd',\n",
       " 'rehan',\n",
       " 'jishan',\n",
       " 'numaan',\n",
       " 'rabiya')"
      ]
     },
     "execution_count": 232,
     "metadata": {},
     "output_type": "execute_result"
    }
   ],
   "source": [
    "t3"
   ]
  },
  {
   "cell_type": "code",
   "execution_count": 233,
   "id": "aabbf500-bdef-4e84-aa9d-5085c27f83b0",
   "metadata": {},
   "outputs": [
    {
     "data": {
      "text/plain": [
       "'yasin'"
      ]
     },
     "execution_count": 233,
     "metadata": {},
     "output_type": "execute_result"
    }
   ],
   "source": [
    "t3[2]"
   ]
  },
  {
   "cell_type": "code",
   "execution_count": 234,
   "id": "9204c7b9-ed0e-4d0b-8ebd-5a7067264178",
   "metadata": {},
   "outputs": [
    {
     "data": {
      "text/plain": [
       "('imran', 'yasin', 'bilal', 'ahamd', 'rehan', 'jishan', 'numaan', 'rabiya')"
      ]
     },
     "execution_count": 234,
     "metadata": {},
     "output_type": "execute_result"
    }
   ],
   "source": [
    "t3[1:9]"
   ]
  },
  {
   "cell_type": "code",
   "execution_count": 235,
   "id": "ef556a9c-3132-4657-9b38-93229928d03e",
   "metadata": {},
   "outputs": [],
   "source": [
    "t4= (\"apple\", \"banana\",\"cherry\")\n"
   ]
  }
 ],
 "metadata": {
  "kernelspec": {
   "display_name": "Python [conda env:base] *",
   "language": "python",
   "name": "conda-base-py"
  },
  "language_info": {
   "codemirror_mode": {
    "name": "ipython",
    "version": 3
   },
   "file_extension": ".py",
   "mimetype": "text/x-python",
   "name": "python",
   "nbconvert_exporter": "python",
   "pygments_lexer": "ipython3",
   "version": "3.12.7"
  }
 },
 "nbformat": 4,
 "nbformat_minor": 5
}
