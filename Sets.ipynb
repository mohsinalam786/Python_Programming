{
 "cells": [
  {
   "cell_type": "code",
   "execution_count": 1,
   "id": "7006dc34-f33b-4b8e-bd21-2d894a840f10",
   "metadata": {},
   "outputs": [
    {
     "name": "stdout",
     "output_type": "stream",
     "text": [
      "{1, 2, 3, 4, 5, 6}\n"
     ]
    }
   ],
   "source": [
    "set1={1,2,3,4,5,6}\n",
    "     \n",
    "\n",
    "print(set1)"
   ]
  },
  {
   "cell_type": "code",
   "execution_count": 3,
   "id": "a9e8f6bf-9f74-4bd9-9f2c-b9f786ea3cc5",
   "metadata": {},
   "outputs": [
    {
     "name": "stdout",
     "output_type": "stream",
     "text": [
      "True\n"
     ]
    }
   ],
   "source": [
    "#Access Set Items\n",
    "print(4 in set1)\n",
    "     "
   ]
  },
  {
   "cell_type": "code",
   "execution_count": 5,
   "id": "d202b361-c3ac-45c4-af31-63dc7f870c5d",
   "metadata": {},
   "outputs": [
    {
     "name": "stdout",
     "output_type": "stream",
     "text": [
      "False\n"
     ]
    }
   ],
   "source": [
    "print(8 in set1)"
   ]
  },
  {
   "cell_type": "code",
   "execution_count": 7,
   "id": "4866c26a-f1a8-469e-a0ea-a8974e1537c7",
   "metadata": {},
   "outputs": [
    {
     "name": "stdout",
     "output_type": "stream",
     "text": [
      "True\n"
     ]
    }
   ],
   "source": [
    "print(8 not in set1)"
   ]
  },
  {
   "cell_type": "code",
   "execution_count": 9,
   "id": "6a5e462a-8e42-469a-859f-f08924dd0206",
   "metadata": {},
   "outputs": [
    {
     "data": {
      "text/plain": [
       "{1, 2, 3, 4, 5, 6, 9}"
      ]
     },
     "execution_count": 9,
     "metadata": {},
     "output_type": "execute_result"
    }
   ],
   "source": [
    "#Add Set Items\n",
    "\n",
    "set1.add(9)\n",
    "     \n",
    "\n",
    "set1\n"
   ]
  },
  {
   "cell_type": "code",
   "execution_count": 11,
   "id": "2e90b76e-138d-4f2b-907d-eb88bc9e1abe",
   "metadata": {},
   "outputs": [],
   "source": [
    "# To add items from another set into the current set, use the update() method\n",
    "set2={10,11,12}"
   ]
  },
  {
   "cell_type": "code",
   "execution_count": 13,
   "id": "ed71593e-2b94-4ac0-9b8f-7739b7b61f6b",
   "metadata": {},
   "outputs": [
    {
     "name": "stdout",
     "output_type": "stream",
     "text": [
      "{10, 11, 12}\n"
     ]
    }
   ],
   "source": [
    "print(set2)"
   ]
  },
  {
   "cell_type": "code",
   "execution_count": 15,
   "id": "dc148fd8-bdf8-4514-96bc-cb1829a6f280",
   "metadata": {},
   "outputs": [
    {
     "data": {
      "text/plain": [
       "{1, 2, 3, 4, 5, 6, 9, 10, 11, 12}"
      ]
     },
     "execution_count": 15,
     "metadata": {},
     "output_type": "execute_result"
    }
   ],
   "source": [
    "set1.update(set2)\n",
    "     \n",
    "\n",
    "set1"
   ]
  },
  {
   "cell_type": "code",
   "execution_count": 21,
   "id": "4e239bc2-1bd9-4150-9b7a-d5e68e4d4f65",
   "metadata": {},
   "outputs": [],
   "source": [
    "#The object in the update() method does not have to be a set, it can be any iterable object (tuples, lists, dictionaries etc.\n",
    "\n",
    "list3=[\"A\",\"B\",\"C\"]\n",
    "\n",
    "     \n",
    "\n"
   ]
  },
  {
   "cell_type": "code",
   "execution_count": 23,
   "id": "d5986d7f-eea6-4379-9a51-fa8fd5e75721",
   "metadata": {},
   "outputs": [],
   "source": [
    "# Remove Set Items\n",
    "\n",
    "set1.remove(12)\n",
    "     "
   ]
  },
  {
   "cell_type": "code",
   "execution_count": 25,
   "id": "dacb55e2-0206-43ed-9422-cda2e8a9c93e",
   "metadata": {},
   "outputs": [
    {
     "data": {
      "text/plain": [
       "{1, 2, 3, 4, 5, 6, 9, 10, 11}"
      ]
     },
     "execution_count": 25,
     "metadata": {},
     "output_type": "execute_result"
    }
   ],
   "source": [
    "set1"
   ]
  },
  {
   "cell_type": "code",
   "execution_count": 27,
   "id": "357b313e-d305-4604-a443-4ebbfe875a89",
   "metadata": {},
   "outputs": [
    {
     "data": {
      "text/plain": [
       "{1, 2, 3, 4, 5, 6, 9, 10}"
      ]
     },
     "execution_count": 27,
     "metadata": {},
     "output_type": "execute_result"
    }
   ],
   "source": [
    "set1.discard(11)\n",
    "     \n",
    "\n",
    "set1\n",
    "     "
   ]
  },
  {
   "cell_type": "code",
   "execution_count": 29,
   "id": "162fa6cf-4cb0-490c-903a-9cee2f108f54",
   "metadata": {},
   "outputs": [
    {
     "data": {
      "text/plain": [
       "1"
      ]
     },
     "execution_count": 29,
     "metadata": {},
     "output_type": "execute_result"
    }
   ],
   "source": [
    "\n",
    "set1.pop()"
   ]
  },
  {
   "cell_type": "code",
   "execution_count": 31,
   "id": "68d5c02a-e80c-4258-987a-db5545a987e3",
   "metadata": {},
   "outputs": [
    {
     "data": {
      "text/plain": [
       "set()"
      ]
     },
     "execution_count": 31,
     "metadata": {},
     "output_type": "execute_result"
    }
   ],
   "source": [
    "set2={1,2}\n",
    "     \n",
    "\n",
    "set2.clear()\n",
    "     \n",
    "\n",
    "set2"
   ]
  },
  {
   "cell_type": "code",
   "execution_count": 33,
   "id": "c45ac1f5-3769-4088-a084-d6b4ab8b1b49",
   "metadata": {},
   "outputs": [
    {
     "ename": "KeyError",
     "evalue": "101",
     "output_type": "error",
     "traceback": [
      "\u001b[1;31m---------------------------------------------------------------------------\u001b[0m",
      "\u001b[1;31mKeyError\u001b[0m                                  Traceback (most recent call last)",
      "Cell \u001b[1;32mIn[33], line 5\u001b[0m\n\u001b[0;32m      1\u001b[0m \u001b[38;5;66;03m# Difference Between Remove & Discard\u001b[39;00m\n\u001b[0;32m      4\u001b[0m set1\u001b[38;5;241m=\u001b[39m{\u001b[38;5;241m1\u001b[39m,\u001b[38;5;241m2\u001b[39m,\u001b[38;5;241m3\u001b[39m,\u001b[38;5;241m4\u001b[39m,\u001b[38;5;241m5\u001b[39m,\u001b[38;5;241m6\u001b[39m}\n\u001b[1;32m----> 5\u001b[0m set1\u001b[38;5;241m.\u001b[39mremove(\u001b[38;5;241m101\u001b[39m)\n",
      "\u001b[1;31mKeyError\u001b[0m: 101"
     ]
    }
   ],
   "source": [
    "# Difference Between Remove & Discard\n",
    "     \n",
    "\n",
    "set1={1,2,3,4,5,6}\n",
    "set1.remove(101)\n",
    "     "
   ]
  },
  {
   "cell_type": "code",
   "execution_count": 35,
   "id": "9b4d6adf-2667-4359-83dd-87c3d6810b48",
   "metadata": {},
   "outputs": [
    {
     "name": "stdout",
     "output_type": "stream",
     "text": [
      "{'x', 'z', 6, 7, 8, 'y'}\n"
     ]
    }
   ],
   "source": [
    "#Union Method\n",
    "set1= {\"x\",\"y\",\"z\"}\n",
    "set2={6,7,8}\n",
    "set3=set1.union(set2)\n",
    "print(set3)\n",
    "     "
   ]
  },
  {
   "cell_type": "code",
   "execution_count": 37,
   "id": "5a5f6ffd-305e-46ef-ae59-62891f2934ca",
   "metadata": {},
   "outputs": [
    {
     "name": "stdout",
     "output_type": "stream",
     "text": [
      "{'x', 'z', 6, 7, 8, 'King', 'Kong', 'Patlu', 'Motu', 'y'}\n"
     ]
    }
   ],
   "source": [
    "#Join mutiple sets\n",
    "set1= {\"x\",\"y\",\"z\"}\n",
    "set2={6,7,8}\n",
    "set3={'Motu','Patlu'}\n",
    "set4={'King','Kong'}\n",
    "largeset=set1.union(set2,set3,set4)\n",
    "print(largeset)\n",
    "     \n"
   ]
  },
  {
   "cell_type": "code",
   "execution_count": 39,
   "id": "d1170daf-e707-4261-b58c-f5ac06697897",
   "metadata": {},
   "outputs": [
    {
     "name": "stdout",
     "output_type": "stream",
     "text": [
      "{'x', 'z', 6, 7, 8, 'King', 'Kong', 'Patlu', 'Motu', 'y'}\n"
     ]
    }
   ],
   "source": [
    "set1= {\"x\",\"y\",\"z\"}\n",
    "set2={6,7,8}\n",
    "set3={'Motu','Patlu'}\n",
    "set4={'King','Kong'}\n",
    "largeset=set1 |set2 |set3 |set4\n",
    "print(largeset)\n",
    "     "
   ]
  },
  {
   "cell_type": "code",
   "execution_count": 41,
   "id": "f55ca066-e2ed-4113-bdf0-416dd4f1ec05",
   "metadata": {},
   "outputs": [
    {
     "name": "stdout",
     "output_type": "stream",
     "text": [
      "{'x', 'z', 6, 7, 8, 'y'}\n"
     ]
    }
   ],
   "source": [
    "#update Method\n",
    "set1= {\"x\",\"y\",\"z\"}\n",
    "set2={6,7,8}\n",
    "set1.update(set2)\n",
    "print(set1)\n",
    "     "
   ]
  },
  {
   "cell_type": "code",
   "execution_count": 43,
   "id": "e5fa08ca-751f-49d1-8c83-7fd351b471d4",
   "metadata": {},
   "outputs": [
    {
     "name": "stdout",
     "output_type": "stream",
     "text": [
      "{'x'}\n"
     ]
    }
   ],
   "source": [
    "#intersection method\n",
    "set1= {\"x\",\"y\",\"z\"}\n",
    "set2={6,7,8,\"x\"}\n",
    "set3= set1.intersection(set2)\n",
    "print(set3)\n",
    "     \n"
   ]
  },
  {
   "cell_type": "code",
   "execution_count": 45,
   "id": "ea488487-9c4d-478a-b99b-b85fb6a05bef",
   "metadata": {},
   "outputs": [
    {
     "name": "stdout",
     "output_type": "stream",
     "text": [
      "{'x'}\n"
     ]
    }
   ],
   "source": [
    "# & operator\n",
    "set1= {\"x\",\"y\",\"z\"}\n",
    "set2={6,7,8,\"x\"}\n",
    "set3= set1 & set2\n",
    "print(set3)"
   ]
  },
  {
   "cell_type": "code",
   "execution_count": 47,
   "id": "d282f0ea-afda-410b-93f3-25f90b23dda9",
   "metadata": {},
   "outputs": [
    {
     "name": "stdout",
     "output_type": "stream",
     "text": [
      "{'y', 'z'}\n"
     ]
    }
   ],
   "source": [
    "# difference method\n",
    "set1= {\"x\",\"y\",\"z\"}\n",
    "set2={6,7,8,\"x\"}\n",
    "set3= set1.difference(set2)\n",
    "print(set3)"
   ]
  },
  {
   "cell_type": "code",
   "execution_count": 49,
   "id": "2afb1378-c1d9-4c82-aed8-1df5848e5eea",
   "metadata": {},
   "outputs": [
    {
     "name": "stdout",
     "output_type": "stream",
     "text": [
      "{8, 6, 7}\n"
     ]
    }
   ],
   "source": [
    "set1= {\"x\",\"y\",\"z\"}\n",
    "set2={6,7,8,\"x\"}\n",
    "set3= set2.difference(set1)\n",
    "print(set3)\n",
    "     "
   ]
  },
  {
   "cell_type": "code",
   "execution_count": null,
   "id": "2dbdb9f1-8345-4520-bc52-965dbf3ccfd6",
   "metadata": {},
   "outputs": [],
   "source": []
  }
 ],
 "metadata": {
  "kernelspec": {
   "display_name": "Python [conda env:base] *",
   "language": "python",
   "name": "conda-base-py"
  },
  "language_info": {
   "codemirror_mode": {
    "name": "ipython",
    "version": 3
   },
   "file_extension": ".py",
   "mimetype": "text/x-python",
   "name": "python",
   "nbconvert_exporter": "python",
   "pygments_lexer": "ipython3",
   "version": "3.12.7"
  }
 },
 "nbformat": 4,
 "nbformat_minor": 5
}
