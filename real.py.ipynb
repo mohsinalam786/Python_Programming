{
 "cells": [
  {
   "cell_type": "code",
   "execution_count": 27,
   "id": "79f2986d-5f72-4fee-ae9d-790432c62295",
   "metadata": {},
   "outputs": [
    {
     "data": {
      "text/plain": [
       "{'name': ['Xavier', 'Ann', 'Jana', 'Yi', 'Robin', 'Amal', 'Nori'],\n",
       " 'city': ['Mexico City',\n",
       "  'Toronto',\n",
       "  'Prague',\n",
       "  'Shanghai',\n",
       "  'Manchester',\n",
       "  'Cairo',\n",
       "  'Osaka'],\n",
       " 'age': [41, 28, 33, 34, 38, 31, 37],\n",
       " 'py-score': [88.0, 79.0, 81.0, 80.0, 68.0, 61.0, 84.0]}"
      ]
     },
     "execution_count": 27,
     "metadata": {},
     "output_type": "execute_result"
    }
   ],
   "source": [
    "#realpython \n",
    "import pandas as pd\n",
    "data = {'name': ['Xavier', 'Ann', 'Jana', 'Yi', 'Robin', 'Amal', 'Nori'],\n",
    "        'city': ['Mexico City', 'Toronto', 'Prague', 'Shanghai',\n",
    "              'Manchester', 'Cairo', 'Osaka'],\n",
    "        'age': [41, 28, 33, 34, 38, 31, 37],\n",
    "        'py-score': [88.0, 79.0, 81.0, 80.0, 68.0, 61.0, 84.0]}\n",
    "\n",
    "row_labels = [101,102,103,104,105,106,107]\n",
    "data"
   ]
  },
  {
   "cell_type": "code",
   "execution_count": 28,
   "id": "1e2601a8-1156-48e3-9d9d-15cb7a0cbbf7",
   "metadata": {},
   "outputs": [
    {
     "data": {
      "text/html": [
       "<div>\n",
       "<style scoped>\n",
       "    .dataframe tbody tr th:only-of-type {\n",
       "        vertical-align: middle;\n",
       "    }\n",
       "\n",
       "    .dataframe tbody tr th {\n",
       "        vertical-align: top;\n",
       "    }\n",
       "\n",
       "    .dataframe thead th {\n",
       "        text-align: right;\n",
       "    }\n",
       "</style>\n",
       "<table border=\"1\" class=\"dataframe\">\n",
       "  <thead>\n",
       "    <tr style=\"text-align: right;\">\n",
       "      <th></th>\n",
       "      <th>name</th>\n",
       "      <th>city</th>\n",
       "      <th>age</th>\n",
       "      <th>py-score</th>\n",
       "    </tr>\n",
       "  </thead>\n",
       "  <tbody>\n",
       "    <tr>\n",
       "      <th>101</th>\n",
       "      <td>Xavier</td>\n",
       "      <td>Mexico City</td>\n",
       "      <td>41</td>\n",
       "      <td>88.0</td>\n",
       "    </tr>\n",
       "    <tr>\n",
       "      <th>102</th>\n",
       "      <td>Ann</td>\n",
       "      <td>Toronto</td>\n",
       "      <td>28</td>\n",
       "      <td>79.0</td>\n",
       "    </tr>\n",
       "    <tr>\n",
       "      <th>103</th>\n",
       "      <td>Jana</td>\n",
       "      <td>Prague</td>\n",
       "      <td>33</td>\n",
       "      <td>81.0</td>\n",
       "    </tr>\n",
       "    <tr>\n",
       "      <th>104</th>\n",
       "      <td>Yi</td>\n",
       "      <td>Shanghai</td>\n",
       "      <td>34</td>\n",
       "      <td>80.0</td>\n",
       "    </tr>\n",
       "    <tr>\n",
       "      <th>105</th>\n",
       "      <td>Robin</td>\n",
       "      <td>Manchester</td>\n",
       "      <td>38</td>\n",
       "      <td>68.0</td>\n",
       "    </tr>\n",
       "    <tr>\n",
       "      <th>106</th>\n",
       "      <td>Amal</td>\n",
       "      <td>Cairo</td>\n",
       "      <td>31</td>\n",
       "      <td>61.0</td>\n",
       "    </tr>\n",
       "    <tr>\n",
       "      <th>107</th>\n",
       "      <td>Nori</td>\n",
       "      <td>Osaka</td>\n",
       "      <td>37</td>\n",
       "      <td>84.0</td>\n",
       "    </tr>\n",
       "  </tbody>\n",
       "</table>\n",
       "</div>"
      ],
      "text/plain": [
       "       name         city  age  py-score\n",
       "101  Xavier  Mexico City   41      88.0\n",
       "102     Ann      Toronto   28      79.0\n",
       "103    Jana       Prague   33      81.0\n",
       "104      Yi     Shanghai   34      80.0\n",
       "105   Robin   Manchester   38      68.0\n",
       "106    Amal        Cairo   31      61.0\n",
       "107    Nori        Osaka   37      84.0"
      ]
     },
     "execution_count": 28,
     "metadata": {},
     "output_type": "execute_result"
    }
   ],
   "source": [
    "df = pd.DataFrame(data=data, index=row_labels)\n",
    "df\n"
   ]
  },
  {
   "cell_type": "code",
   "execution_count": 29,
   "id": "ca55ae66-a642-42a8-855c-82050f414d6f",
   "metadata": {},
   "outputs": [
    {
     "data": {
      "text/html": [
       "<div>\n",
       "<style scoped>\n",
       "    .dataframe tbody tr th:only-of-type {\n",
       "        vertical-align: middle;\n",
       "    }\n",
       "\n",
       "    .dataframe tbody tr th {\n",
       "        vertical-align: top;\n",
       "    }\n",
       "\n",
       "    .dataframe thead th {\n",
       "        text-align: right;\n",
       "    }\n",
       "</style>\n",
       "<table border=\"1\" class=\"dataframe\">\n",
       "  <thead>\n",
       "    <tr style=\"text-align: right;\">\n",
       "      <th></th>\n",
       "      <th>name</th>\n",
       "      <th>city</th>\n",
       "      <th>age</th>\n",
       "      <th>py-score</th>\n",
       "    </tr>\n",
       "  </thead>\n",
       "  <tbody>\n",
       "    <tr>\n",
       "      <th>106</th>\n",
       "      <td>Amal</td>\n",
       "      <td>Cairo</td>\n",
       "      <td>31</td>\n",
       "      <td>61.0</td>\n",
       "    </tr>\n",
       "    <tr>\n",
       "      <th>107</th>\n",
       "      <td>Nori</td>\n",
       "      <td>Osaka</td>\n",
       "      <td>37</td>\n",
       "      <td>84.0</td>\n",
       "    </tr>\n",
       "  </tbody>\n",
       "</table>\n",
       "</div>"
      ],
      "text/plain": [
       "     name   city  age  py-score\n",
       "106  Amal  Cairo   31      61.0\n",
       "107  Nori  Osaka   37      84.0"
      ]
     },
     "execution_count": 29,
     "metadata": {},
     "output_type": "execute_result"
    }
   ],
   "source": [
    "df.tail(n=2)"
   ]
  },
  {
   "cell_type": "code",
   "execution_count": 30,
   "id": "cdaa3ba4-ccd0-47b2-a6b0-ddf5fb106858",
   "metadata": {},
   "outputs": [
    {
     "data": {
      "text/html": [
       "<div>\n",
       "<style scoped>\n",
       "    .dataframe tbody tr th:only-of-type {\n",
       "        vertical-align: middle;\n",
       "    }\n",
       "\n",
       "    .dataframe tbody tr th {\n",
       "        vertical-align: top;\n",
       "    }\n",
       "\n",
       "    .dataframe thead th {\n",
       "        text-align: right;\n",
       "    }\n",
       "</style>\n",
       "<table border=\"1\" class=\"dataframe\">\n",
       "  <thead>\n",
       "    <tr style=\"text-align: right;\">\n",
       "      <th></th>\n",
       "      <th>name</th>\n",
       "      <th>city</th>\n",
       "      <th>age</th>\n",
       "      <th>py-score</th>\n",
       "    </tr>\n",
       "  </thead>\n",
       "  <tbody>\n",
       "    <tr>\n",
       "      <th>101</th>\n",
       "      <td>Xavier</td>\n",
       "      <td>Mexico City</td>\n",
       "      <td>41</td>\n",
       "      <td>88.0</td>\n",
       "    </tr>\n",
       "    <tr>\n",
       "      <th>102</th>\n",
       "      <td>Ann</td>\n",
       "      <td>Toronto</td>\n",
       "      <td>28</td>\n",
       "      <td>79.0</td>\n",
       "    </tr>\n",
       "  </tbody>\n",
       "</table>\n",
       "</div>"
      ],
      "text/plain": [
       "       name         city  age  py-score\n",
       "101  Xavier  Mexico City   41      88.0\n",
       "102     Ann      Toronto   28      79.0"
      ]
     },
     "execution_count": 30,
     "metadata": {},
     "output_type": "execute_result"
    }
   ],
   "source": [
    "df.head(n=2)"
   ]
  },
  {
   "cell_type": "code",
   "execution_count": 31,
   "id": "908bc780-a2c6-49a9-8ee3-ffe201c0bbe7",
   "metadata": {},
   "outputs": [
    {
     "data": {
      "text/plain": [
       "101    Mexico City\n",
       "102        Toronto\n",
       "103         Prague\n",
       "104       Shanghai\n",
       "105     Manchester\n",
       "106          Cairo\n",
       "107          Osaka\n",
       "Name: city, dtype: object"
      ]
     },
     "execution_count": 31,
     "metadata": {},
     "output_type": "execute_result"
    }
   ],
   "source": [
    "cities = df['city']\n",
    "cities"
   ]
  },
  {
   "cell_type": "code",
   "execution_count": 32,
   "id": "a5e0b6ca-a1c4-41a8-91ec-b2cac9bc7c72",
   "metadata": {},
   "outputs": [
    {
     "data": {
      "text/plain": [
       "name          Jana\n",
       "city        Prague\n",
       "age             33\n",
       "py-score      81.0\n",
       "Name: 103, dtype: object"
      ]
     },
     "execution_count": 32,
     "metadata": {},
     "output_type": "execute_result"
    }
   ],
   "source": [
    "df.loc[103]"
   ]
  },
  {
   "cell_type": "code",
   "execution_count": 33,
   "id": "a1ef0f86-b689-4542-b9b2-e44150039526",
   "metadata": {},
   "outputs": [
    {
     "data": {
      "text/html": [
       "<div>\n",
       "<style scoped>\n",
       "    .dataframe tbody tr th:only-of-type {\n",
       "        vertical-align: middle;\n",
       "    }\n",
       "\n",
       "    .dataframe tbody tr th {\n",
       "        vertical-align: top;\n",
       "    }\n",
       "\n",
       "    .dataframe thead th {\n",
       "        text-align: right;\n",
       "    }\n",
       "</style>\n",
       "<table border=\"1\" class=\"dataframe\">\n",
       "  <thead>\n",
       "    <tr style=\"text-align: right;\">\n",
       "      <th></th>\n",
       "      <th>x</th>\n",
       "      <th>y</th>\n",
       "      <th>z</th>\n",
       "    </tr>\n",
       "  </thead>\n",
       "  <tbody>\n",
       "    <tr>\n",
       "      <th>0</th>\n",
       "      <td>1</td>\n",
       "      <td>2</td>\n",
       "      <td>100</td>\n",
       "    </tr>\n",
       "    <tr>\n",
       "      <th>1</th>\n",
       "      <td>2</td>\n",
       "      <td>4</td>\n",
       "      <td>600</td>\n",
       "    </tr>\n",
       "    <tr>\n",
       "      <th>2</th>\n",
       "      <td>3</td>\n",
       "      <td>8</td>\n",
       "      <td>200</td>\n",
       "    </tr>\n",
       "  </tbody>\n",
       "</table>\n",
       "</div>"
      ],
      "text/plain": [
       "   x  y    z\n",
       "0  1  2  100\n",
       "1  2  4  600\n",
       "2  3  8  200"
      ]
     },
     "execution_count": 33,
     "metadata": {},
     "output_type": "execute_result"
    }
   ],
   "source": [
    "import numpy as np\n",
    "import pandas as pd\n",
    "d ={'x': [1,2,3],'y':np.array([2,4,8]),'z':[100,600,200]}\n",
    "pd.DataFrame(d)\n"
   ]
  },
  {
   "cell_type": "code",
   "execution_count": 34,
   "id": "1f3ef4f7-1020-49cd-b9ac-a1eea52a273c",
   "metadata": {},
   "outputs": [
    {
     "data": {
      "text/html": [
       "<div>\n",
       "<style scoped>\n",
       "    .dataframe tbody tr th:only-of-type {\n",
       "        vertical-align: middle;\n",
       "    }\n",
       "\n",
       "    .dataframe tbody tr th {\n",
       "        vertical-align: top;\n",
       "    }\n",
       "\n",
       "    .dataframe thead th {\n",
       "        text-align: right;\n",
       "    }\n",
       "</style>\n",
       "<table border=\"1\" class=\"dataframe\">\n",
       "  <thead>\n",
       "    <tr style=\"text-align: right;\">\n",
       "      <th></th>\n",
       "      <th>z</th>\n",
       "      <th>y</th>\n",
       "      <th>x</th>\n",
       "    </tr>\n",
       "  </thead>\n",
       "  <tbody>\n",
       "    <tr>\n",
       "      <th>100</th>\n",
       "      <td>100</td>\n",
       "      <td>2</td>\n",
       "      <td>1</td>\n",
       "    </tr>\n",
       "    <tr>\n",
       "      <th>200</th>\n",
       "      <td>600</td>\n",
       "      <td>4</td>\n",
       "      <td>2</td>\n",
       "    </tr>\n",
       "    <tr>\n",
       "      <th>300</th>\n",
       "      <td>200</td>\n",
       "      <td>8</td>\n",
       "      <td>3</td>\n",
       "    </tr>\n",
       "  </tbody>\n",
       "</table>\n",
       "</div>"
      ],
      "text/plain": [
       "       z  y  x\n",
       "100  100  2  1\n",
       "200  600  4  2\n",
       "300  200  8  3"
      ]
     },
     "execution_count": 34,
     "metadata": {},
     "output_type": "execute_result"
    }
   ],
   "source": [
    " pd.DataFrame(d, index=[100, 200, 300], columns=['z', 'y', 'x'])\n",
    "       "
   ]
  },
  {
   "cell_type": "code",
   "execution_count": 35,
   "id": "638d6e59-fe98-4717-8372-dd48d448f763",
   "metadata": {},
   "outputs": [
    {
     "data": {
      "text/html": [
       "<div>\n",
       "<style scoped>\n",
       "    .dataframe tbody tr th:only-of-type {\n",
       "        vertical-align: middle;\n",
       "    }\n",
       "\n",
       "    .dataframe tbody tr th {\n",
       "        vertical-align: top;\n",
       "    }\n",
       "\n",
       "    .dataframe thead th {\n",
       "        text-align: right;\n",
       "    }\n",
       "</style>\n",
       "<table border=\"1\" class=\"dataframe\">\n",
       "  <thead>\n",
       "    <tr style=\"text-align: right;\">\n",
       "      <th></th>\n",
       "      <th>x</th>\n",
       "      <th>y</th>\n",
       "      <th>z</th>\n",
       "    </tr>\n",
       "  </thead>\n",
       "  <tbody>\n",
       "    <tr>\n",
       "      <th>0</th>\n",
       "      <td>1</td>\n",
       "      <td>2</td>\n",
       "      <td>100</td>\n",
       "    </tr>\n",
       "    <tr>\n",
       "      <th>1</th>\n",
       "      <td>2</td>\n",
       "      <td>4</td>\n",
       "      <td>100</td>\n",
       "    </tr>\n",
       "    <tr>\n",
       "      <th>2</th>\n",
       "      <td>3</td>\n",
       "      <td>8</td>\n",
       "      <td>100</td>\n",
       "    </tr>\n",
       "  </tbody>\n",
       "</table>\n",
       "</div>"
      ],
      "text/plain": [
       "   x  y    z\n",
       "0  1  2  100\n",
       "1  2  4  100\n",
       "2  3  8  100"
      ]
     },
     "execution_count": 35,
     "metadata": {},
     "output_type": "execute_result"
    }
   ],
   "source": [
    "  l= [{'x': 1, 'y': 2, 'z': 100},      \n",
    "      {'x': 2, 'y': 4, 'z': 100},\n",
    "      {'x': 3, 'y': 8, 'z': 100}]\n",
    "\n",
    "pd.DataFrame(l)\n"
   ]
  },
  {
   "cell_type": "code",
   "execution_count": 36,
   "id": "e50ba462-20cb-49ba-b16e-c13349f05a7c",
   "metadata": {},
   "outputs": [
    {
     "data": {
      "text/html": [
       "<div>\n",
       "<style scoped>\n",
       "    .dataframe tbody tr th:only-of-type {\n",
       "        vertical-align: middle;\n",
       "    }\n",
       "\n",
       "    .dataframe tbody tr th {\n",
       "        vertical-align: top;\n",
       "    }\n",
       "\n",
       "    .dataframe thead th {\n",
       "        text-align: right;\n",
       "    }\n",
       "</style>\n",
       "<table border=\"1\" class=\"dataframe\">\n",
       "  <thead>\n",
       "    <tr style=\"text-align: right;\">\n",
       "      <th></th>\n",
       "      <th>x</th>\n",
       "      <th>y</th>\n",
       "      <th>z</th>\n",
       "    </tr>\n",
       "  </thead>\n",
       "  <tbody>\n",
       "    <tr>\n",
       "      <th>0</th>\n",
       "      <td>1</td>\n",
       "      <td>2</td>\n",
       "      <td>100</td>\n",
       "    </tr>\n",
       "    <tr>\n",
       "      <th>1</th>\n",
       "      <td>2</td>\n",
       "      <td>4</td>\n",
       "      <td>100</td>\n",
       "    </tr>\n",
       "    <tr>\n",
       "      <th>2</th>\n",
       "      <td>3</td>\n",
       "      <td>8</td>\n",
       "      <td>100</td>\n",
       "    </tr>\n",
       "  </tbody>\n",
       "</table>\n",
       "</div>"
      ],
      "text/plain": [
       "   x  y    z\n",
       "0  1  2  100\n",
       "1  2  4  100\n",
       "2  3  8  100"
      ]
     },
     "execution_count": 36,
     "metadata": {},
     "output_type": "execute_result"
    }
   ],
   "source": [
    "l= [[1, 2, 100],\n",
    "      [2, 4, 100],\n",
    "      [3, 8, 100]]\n",
    "\n",
    "pd.DataFrame(l, columns=['x', 'y', 'z'])\n"
   ]
  },
  {
   "cell_type": "code",
   "execution_count": 61,
   "id": "cb08e403-cd6b-43d2-8d2e-e29f144d1748",
   "metadata": {},
   "outputs": [
    {
     "data": {
      "text/html": [
       "<div>\n",
       "<style scoped>\n",
       "    .dataframe tbody tr th:only-of-type {\n",
       "        vertical-align: middle;\n",
       "    }\n",
       "\n",
       "    .dataframe tbody tr th {\n",
       "        vertical-align: top;\n",
       "    }\n",
       "\n",
       "    .dataframe thead th {\n",
       "        text-align: right;\n",
       "    }\n",
       "</style>\n",
       "<table border=\"1\" class=\"dataframe\">\n",
       "  <thead>\n",
       "    <tr style=\"text-align: right;\">\n",
       "      <th></th>\n",
       "      <th>Duration</th>\n",
       "      <th>Pulse</th>\n",
       "      <th>Maxpulse</th>\n",
       "      <th>Calories</th>\n",
       "    </tr>\n",
       "  </thead>\n",
       "  <tbody>\n",
       "    <tr>\n",
       "      <th>0</th>\n",
       "      <td>60</td>\n",
       "      <td>110</td>\n",
       "      <td>130</td>\n",
       "      <td>409.1</td>\n",
       "    </tr>\n",
       "    <tr>\n",
       "      <th>1</th>\n",
       "      <td>60</td>\n",
       "      <td>117</td>\n",
       "      <td>145</td>\n",
       "      <td>479.0</td>\n",
       "    </tr>\n",
       "    <tr>\n",
       "      <th>2</th>\n",
       "      <td>60</td>\n",
       "      <td>103</td>\n",
       "      <td>135</td>\n",
       "      <td>340.0</td>\n",
       "    </tr>\n",
       "    <tr>\n",
       "      <th>3</th>\n",
       "      <td>45</td>\n",
       "      <td>109</td>\n",
       "      <td>175</td>\n",
       "      <td>282.4</td>\n",
       "    </tr>\n",
       "    <tr>\n",
       "      <th>4</th>\n",
       "      <td>45</td>\n",
       "      <td>117</td>\n",
       "      <td>148</td>\n",
       "      <td>406.0</td>\n",
       "    </tr>\n",
       "    <tr>\n",
       "      <th>...</th>\n",
       "      <td>...</td>\n",
       "      <td>...</td>\n",
       "      <td>...</td>\n",
       "      <td>...</td>\n",
       "    </tr>\n",
       "    <tr>\n",
       "      <th>164</th>\n",
       "      <td>60</td>\n",
       "      <td>105</td>\n",
       "      <td>140</td>\n",
       "      <td>290.8</td>\n",
       "    </tr>\n",
       "    <tr>\n",
       "      <th>165</th>\n",
       "      <td>60</td>\n",
       "      <td>110</td>\n",
       "      <td>145</td>\n",
       "      <td>300.0</td>\n",
       "    </tr>\n",
       "    <tr>\n",
       "      <th>166</th>\n",
       "      <td>60</td>\n",
       "      <td>115</td>\n",
       "      <td>145</td>\n",
       "      <td>310.2</td>\n",
       "    </tr>\n",
       "    <tr>\n",
       "      <th>167</th>\n",
       "      <td>75</td>\n",
       "      <td>120</td>\n",
       "      <td>150</td>\n",
       "      <td>320.4</td>\n",
       "    </tr>\n",
       "    <tr>\n",
       "      <th>168</th>\n",
       "      <td>75</td>\n",
       "      <td>125</td>\n",
       "      <td>150</td>\n",
       "      <td>330.4</td>\n",
       "    </tr>\n",
       "  </tbody>\n",
       "</table>\n",
       "<p>169 rows × 4 columns</p>\n",
       "</div>"
      ],
      "text/plain": [
       "     Duration  Pulse  Maxpulse  Calories\n",
       "0          60    110       130     409.1\n",
       "1          60    117       145     479.0\n",
       "2          60    103       135     340.0\n",
       "3          45    109       175     282.4\n",
       "4          45    117       148     406.0\n",
       "..        ...    ...       ...       ...\n",
       "164        60    105       140     290.8\n",
       "165        60    110       145     300.0\n",
       "166        60    115       145     310.2\n",
       "167        75    120       150     320.4\n",
       "168        75    125       150     330.4\n",
       "\n",
       "[169 rows x 4 columns]"
      ]
     },
     "execution_count": 61,
     "metadata": {},
     "output_type": "execute_result"
    }
   ],
   "source": [
    "df1=pd.read_csv(\"data helth.csv\")\n",
    "df1\n",
    "\n",
    "      \n"
   ]
  },
  {
   "cell_type": "code",
   "execution_count": 65,
   "id": "3312bf4f-b218-41d8-bc07-ae90f601339e",
   "metadata": {},
   "outputs": [
    {
     "data": {
      "text/plain": [
       "RangeIndex(start=0, stop=169, step=1)"
      ]
     },
     "execution_count": 65,
     "metadata": {},
     "output_type": "execute_result"
    }
   ],
   "source": [
    "df1.index"
   ]
  },
  {
   "cell_type": "code",
   "execution_count": 63,
   "id": "e03d1852-54e3-4aa4-b625-dc8ad08cd49b",
   "metadata": {},
   "outputs": [
    {
     "data": {
      "text/plain": [
       "Index(['Duration', 'Pulse', 'Maxpulse', 'Calories'], dtype='object')"
      ]
     },
     "execution_count": 63,
     "metadata": {},
     "output_type": "execute_result"
    }
   ],
   "source": [
    "df1.columns"
   ]
  },
  {
   "cell_type": "code",
   "execution_count": 73,
   "id": "5d0d2664-bad0-4523-84d4-0218025122a0",
   "metadata": {},
   "outputs": [
    {
     "data": {
      "text/plain": [
       "array([[  60. ,  110. ,  130. ,  409.1],\n",
       "       [  60. ,  117. ,  145. ,  479. ],\n",
       "       [  60. ,  103. ,  135. ,  340. ],\n",
       "       [  45. ,  109. ,  175. ,  282.4],\n",
       "       [  45. ,  117. ,  148. ,  406. ],\n",
       "       [  60. ,  102. ,  127. ,  300. ],\n",
       "       [  60. ,  110. ,  136. ,  374. ],\n",
       "       [  45. ,  104. ,  134. ,  253.3],\n",
       "       [  30. ,  109. ,  133. ,  195.1],\n",
       "       [  60. ,   98. ,  124. ,  269. ],\n",
       "       [  60. ,  103. ,  147. ,  329.3],\n",
       "       [  60. ,  100. ,  120. ,  250.7],\n",
       "       [  60. ,  106. ,  128. ,  345.3],\n",
       "       [  60. ,  104. ,  132. ,  379.3],\n",
       "       [  60. ,   98. ,  123. ,  275. ],\n",
       "       [  60. ,   98. ,  120. ,  215.2],\n",
       "       [  60. ,  100. ,  120. ,  300. ],\n",
       "       [  45. ,   90. ,  112. ,    nan],\n",
       "       [  60. ,  103. ,  123. ,  323. ],\n",
       "       [  45. ,   97. ,  125. ,  243. ],\n",
       "       [  60. ,  108. ,  131. ,  364.2],\n",
       "       [  45. ,  100. ,  119. ,  282. ],\n",
       "       [  60. ,  130. ,  101. ,  300. ],\n",
       "       [  45. ,  105. ,  132. ,  246. ],\n",
       "       [  60. ,  102. ,  126. ,  334.5],\n",
       "       [  60. ,  100. ,  120. ,  250. ],\n",
       "       [  60. ,   92. ,  118. ,  241. ],\n",
       "       [  60. ,  103. ,  132. ,    nan],\n",
       "       [  60. ,  100. ,  132. ,  280. ],\n",
       "       [  60. ,  102. ,  129. ,  380.3],\n",
       "       [  60. ,   92. ,  115. ,  243. ],\n",
       "       [  45. ,   90. ,  112. ,  180.1],\n",
       "       [  60. ,  101. ,  124. ,  299. ],\n",
       "       [  60. ,   93. ,  113. ,  223. ],\n",
       "       [  60. ,  107. ,  136. ,  361. ],\n",
       "       [  60. ,  114. ,  140. ,  415. ],\n",
       "       [  60. ,  102. ,  127. ,  300. ],\n",
       "       [  60. ,  100. ,  120. ,  300. ],\n",
       "       [  60. ,  100. ,  120. ,  300. ],\n",
       "       [  45. ,  104. ,  129. ,  266. ],\n",
       "       [  45. ,   90. ,  112. ,  180.1],\n",
       "       [  60. ,   98. ,  126. ,  286. ],\n",
       "       [  60. ,  100. ,  122. ,  329.4],\n",
       "       [  60. ,  111. ,  138. ,  400. ],\n",
       "       [  60. ,  111. ,  131. ,  397. ],\n",
       "       [  60. ,   99. ,  119. ,  273. ],\n",
       "       [  60. ,  109. ,  153. ,  387.6],\n",
       "       [  45. ,  111. ,  136. ,  300. ],\n",
       "       [  45. ,  108. ,  129. ,  298. ],\n",
       "       [  60. ,  111. ,  139. ,  397.6],\n",
       "       [  60. ,  107. ,  136. ,  380.2],\n",
       "       [  80. ,  123. ,  146. ,  643.1],\n",
       "       [  60. ,  106. ,  130. ,  263. ],\n",
       "       [  60. ,  118. ,  151. ,  486. ],\n",
       "       [  30. ,  136. ,  175. ,  238. ],\n",
       "       [  60. ,  121. ,  146. ,  450.7],\n",
       "       [  60. ,  118. ,  121. ,  413. ],\n",
       "       [  45. ,  115. ,  144. ,  305. ],\n",
       "       [  20. ,  153. ,  172. ,  226.4],\n",
       "       [  45. ,  123. ,  152. ,  321. ],\n",
       "       [ 210. ,  108. ,  160. , 1376. ],\n",
       "       [ 160. ,  110. ,  137. , 1034.4],\n",
       "       [ 160. ,  109. ,  135. ,  853. ],\n",
       "       [  45. ,  118. ,  141. ,  341. ],\n",
       "       [  20. ,  110. ,  130. ,  131.4],\n",
       "       [ 180. ,   90. ,  130. ,  800.4],\n",
       "       [ 150. ,  105. ,  135. ,  873.4],\n",
       "       [ 150. ,  107. ,  130. ,  816. ],\n",
       "       [  20. ,  106. ,  136. ,  110.4],\n",
       "       [ 300. ,  108. ,  143. , 1500.2],\n",
       "       [ 150. ,   97. ,  129. , 1115. ],\n",
       "       [  60. ,  109. ,  153. ,  387.6],\n",
       "       [  90. ,  100. ,  127. ,  700. ],\n",
       "       [ 150. ,   97. ,  127. ,  953.2],\n",
       "       [  45. ,  114. ,  146. ,  304. ],\n",
       "       [  90. ,   98. ,  125. ,  563.2],\n",
       "       [  45. ,  105. ,  134. ,  251. ],\n",
       "       [  45. ,  110. ,  141. ,  300. ],\n",
       "       [ 120. ,  100. ,  130. ,  500.4],\n",
       "       [ 270. ,  100. ,  131. , 1729. ],\n",
       "       [  30. ,  159. ,  182. ,  319.2],\n",
       "       [  45. ,  149. ,  169. ,  344. ],\n",
       "       [  30. ,  103. ,  139. ,  151.1],\n",
       "       [ 120. ,  100. ,  130. ,  500. ],\n",
       "       [  45. ,  100. ,  120. ,  225.3],\n",
       "       [  30. ,  151. ,  170. ,  300. ],\n",
       "       [  45. ,  102. ,  136. ,  234. ],\n",
       "       [ 120. ,  100. ,  157. , 1000.1],\n",
       "       [  45. ,  129. ,  103. ,  242. ],\n",
       "       [  20. ,   83. ,  107. ,   50.3],\n",
       "       [ 180. ,  101. ,  127. ,  600.1],\n",
       "       [  45. ,  107. ,  137. ,    nan],\n",
       "       [  30. ,   90. ,  107. ,  105.3],\n",
       "       [  15. ,   80. ,  100. ,   50.5],\n",
       "       [  20. ,  150. ,  171. ,  127.4],\n",
       "       [  20. ,  151. ,  168. ,  229.4],\n",
       "       [  30. ,   95. ,  128. ,  128.2],\n",
       "       [  25. ,  152. ,  168. ,  244.2],\n",
       "       [  30. ,  109. ,  131. ,  188.2],\n",
       "       [  90. ,   93. ,  124. ,  604.1],\n",
       "       [  20. ,   95. ,  112. ,   77.7],\n",
       "       [  90. ,   90. ,  110. ,  500. ],\n",
       "       [  90. ,   90. ,  100. ,  500. ],\n",
       "       [  90. ,   90. ,  100. ,  500.4],\n",
       "       [  30. ,   92. ,  108. ,   92.7],\n",
       "       [  30. ,   93. ,  128. ,  124. ],\n",
       "       [ 180. ,   90. ,  120. ,  800.3],\n",
       "       [  30. ,   90. ,  120. ,   86.2],\n",
       "       [  90. ,   90. ,  120. ,  500.3],\n",
       "       [ 210. ,  137. ,  184. , 1860.4],\n",
       "       [  60. ,  102. ,  124. ,  325.2],\n",
       "       [  45. ,  107. ,  124. ,  275. ],\n",
       "       [  15. ,  124. ,  139. ,  124.2],\n",
       "       [  45. ,  100. ,  120. ,  225.3],\n",
       "       [  60. ,  108. ,  131. ,  367.6],\n",
       "       [  60. ,  108. ,  151. ,  351.7],\n",
       "       [  60. ,  116. ,  141. ,  443. ],\n",
       "       [  60. ,   97. ,  122. ,  277.4],\n",
       "       [  60. ,  105. ,  125. ,    nan],\n",
       "       [  60. ,  103. ,  124. ,  332.7],\n",
       "       [  30. ,  112. ,  137. ,  193.9],\n",
       "       [  45. ,  100. ,  120. ,  100.7],\n",
       "       [  60. ,  119. ,  169. ,  336.7],\n",
       "       [  60. ,  107. ,  127. ,  344.9],\n",
       "       [  60. ,  111. ,  151. ,  368.5],\n",
       "       [  60. ,   98. ,  122. ,  271. ],\n",
       "       [  60. ,   97. ,  124. ,  275.3],\n",
       "       [  60. ,  109. ,  127. ,  382. ],\n",
       "       [  90. ,   99. ,  125. ,  466.4],\n",
       "       [  60. ,  114. ,  151. ,  384. ],\n",
       "       [  60. ,  104. ,  134. ,  342.5],\n",
       "       [  60. ,  107. ,  138. ,  357.5],\n",
       "       [  60. ,  103. ,  133. ,  335. ],\n",
       "       [  60. ,  106. ,  132. ,  327.5],\n",
       "       [  60. ,  103. ,  136. ,  339. ],\n",
       "       [  20. ,  136. ,  156. ,  189. ],\n",
       "       [  45. ,  117. ,  143. ,  317.7],\n",
       "       [  45. ,  115. ,  137. ,  318. ],\n",
       "       [  45. ,  113. ,  138. ,  308. ],\n",
       "       [  20. ,  141. ,  162. ,  222.4],\n",
       "       [  60. ,  108. ,  135. ,  390. ],\n",
       "       [  60. ,   97. ,  127. ,    nan],\n",
       "       [  45. ,  100. ,  120. ,  250.4],\n",
       "       [  45. ,  122. ,  149. ,  335.4],\n",
       "       [  60. ,  136. ,  170. ,  470.2],\n",
       "       [  45. ,  106. ,  126. ,  270.8],\n",
       "       [  60. ,  107. ,  136. ,  400. ],\n",
       "       [  60. ,  112. ,  146. ,  361.9],\n",
       "       [  30. ,  103. ,  127. ,  185. ],\n",
       "       [  60. ,  110. ,  150. ,  409.4],\n",
       "       [  60. ,  106. ,  134. ,  343. ],\n",
       "       [  60. ,  109. ,  129. ,  353.2],\n",
       "       [  60. ,  109. ,  138. ,  374. ],\n",
       "       [  30. ,  150. ,  167. ,  275.8],\n",
       "       [  60. ,  105. ,  128. ,  328. ],\n",
       "       [  60. ,  111. ,  151. ,  368.5],\n",
       "       [  60. ,   97. ,  131. ,  270.4],\n",
       "       [  60. ,  100. ,  120. ,  270.4],\n",
       "       [  60. ,  114. ,  150. ,  382.8],\n",
       "       [  30. ,   80. ,  120. ,  240.9],\n",
       "       [  30. ,   85. ,  120. ,  250.4],\n",
       "       [  45. ,   90. ,  130. ,  260.4],\n",
       "       [  45. ,   95. ,  130. ,  270. ],\n",
       "       [  45. ,  100. ,  140. ,  280.9],\n",
       "       [  60. ,  105. ,  140. ,  290.8],\n",
       "       [  60. ,  110. ,  145. ,  300. ],\n",
       "       [  60. ,  115. ,  145. ,  310.2],\n",
       "       [  75. ,  120. ,  150. ,  320.4],\n",
       "       [  75. ,  125. ,  150. ,  330.4]])"
      ]
     },
     "execution_count": 73,
     "metadata": {},
     "output_type": "execute_result"
    }
   ],
   "source": [
    "df1.to_numpy()"
   ]
  },
  {
   "cell_type": "code",
   "execution_count": 75,
   "id": "1aad81bc-0e01-48e3-8d7f-c9641f59c651",
   "metadata": {},
   "outputs": [
    {
     "data": {
      "text/plain": [
       "Duration      int64\n",
       "Pulse         int64\n",
       "Maxpulse      int64\n",
       "Calories    float64\n",
       "dtype: object"
      ]
     },
     "execution_count": 75,
     "metadata": {},
     "output_type": "execute_result"
    }
   ],
   "source": [
    "df1.dtypes"
   ]
  },
  {
   "cell_type": "code",
   "execution_count": 79,
   "id": "3b8eb28c-cb8c-4149-9c26-58307393af82",
   "metadata": {},
   "outputs": [
    {
     "data": {
      "text/plain": [
       "2"
      ]
     },
     "execution_count": 79,
     "metadata": {},
     "output_type": "execute_result"
    }
   ],
   "source": [
    "df1.ndim"
   ]
  },
  {
   "cell_type": "code",
   "execution_count": 81,
   "id": "3bdab78d-3aac-4c8d-924f-5afb51618133",
   "metadata": {},
   "outputs": [
    {
     "data": {
      "text/plain": [
       "(7, 4)"
      ]
     },
     "execution_count": 81,
     "metadata": {},
     "output_type": "execute_result"
    }
   ],
   "source": [
    "df.shape"
   ]
  },
  {
   "cell_type": "code",
   "execution_count": 83,
   "id": "24d937b7-7085-46cb-b70a-7046dea0def5",
   "metadata": {},
   "outputs": [
    {
     "data": {
      "text/plain": [
       "676"
      ]
     },
     "execution_count": 83,
     "metadata": {},
     "output_type": "execute_result"
    }
   ],
   "source": [
    "df1.size"
   ]
  },
  {
   "cell_type": "code",
   "execution_count": 85,
   "id": "7240725b-09bf-4da4-aa12-94bf279f6bdd",
   "metadata": {},
   "outputs": [
    {
     "data": {
      "text/plain": [
       "Index        132\n",
       "Duration    1352\n",
       "Pulse       1352\n",
       "Maxpulse    1352\n",
       "Calories    1352\n",
       "dtype: int64"
      ]
     },
     "execution_count": 85,
     "metadata": {},
     "output_type": "execute_result"
    }
   ],
   "source": [
    "df1.memory_usage()"
   ]
  },
  {
   "cell_type": "code",
   "execution_count": 91,
   "id": "ba19d52e-0d1a-4d04-a020-4283bdc954b5",
   "metadata": {},
   "outputs": [
    {
     "data": {
      "text/plain": [
       "0      60\n",
       "1      60\n",
       "2      60\n",
       "3      45\n",
       "4      45\n",
       "       ..\n",
       "164    60\n",
       "165    60\n",
       "166    60\n",
       "167    75\n",
       "168    75\n",
       "Name: Duration, Length: 169, dtype: int64"
      ]
     },
     "execution_count": 91,
     "metadata": {},
     "output_type": "execute_result"
    }
   ],
   "source": [
    "df1['Duration']"
   ]
  },
  {
   "cell_type": "code",
   "execution_count": 93,
   "id": "46acc848-45a0-4053-bf8e-e64f41345b49",
   "metadata": {},
   "outputs": [
    {
     "data": {
      "text/plain": [
       "Duration     60.0\n",
       "Pulse       103.0\n",
       "Maxpulse    147.0\n",
       "Calories    329.3\n",
       "Name: 10, dtype: float64"
      ]
     },
     "execution_count": 93,
     "metadata": {},
     "output_type": "execute_result"
    }
   ],
   "source": [
    "df1.loc[10]"
   ]
  },
  {
   "cell_type": "code",
   "execution_count": 95,
   "id": "98a9512c-5e92-4ae6-93ba-dc280fb9bf7f",
   "metadata": {},
   "outputs": [
    {
     "data": {
      "text/plain": [
       "Duration     60.0\n",
       "Pulse       110.0\n",
       "Maxpulse    130.0\n",
       "Calories    409.1\n",
       "Name: 0, dtype: float64"
      ]
     },
     "execution_count": 95,
     "metadata": {},
     "output_type": "execute_result"
    }
   ],
   "source": [
    "df1.iloc[0]"
   ]
  },
  {
   "cell_type": "code",
   "execution_count": 97,
   "id": "1d095b33-8c54-40b6-b6f3-cba44a05804c",
   "metadata": {},
   "outputs": [
    {
     "data": {
      "text/plain": [
       "0      60\n",
       "1      60\n",
       "2      60\n",
       "3      45\n",
       "4      45\n",
       "       ..\n",
       "164    60\n",
       "165    60\n",
       "166    60\n",
       "167    75\n",
       "168    75\n",
       "Name: Duration, Length: 169, dtype: int64"
      ]
     },
     "execution_count": 97,
     "metadata": {},
     "output_type": "execute_result"
    }
   ],
   "source": [
    "df1.loc[:, \"Duration\"]"
   ]
  },
  {
   "cell_type": "code",
   "execution_count": 101,
   "id": "71328a79-954b-4efb-a84d-f2e2229cdb86",
   "metadata": {},
   "outputs": [
    {
     "data": {
      "text/plain": [
       "0      110\n",
       "1      117\n",
       "2      103\n",
       "3      109\n",
       "4      117\n",
       "      ... \n",
       "164    105\n",
       "165    110\n",
       "166    115\n",
       "167    120\n",
       "168    125\n",
       "Name: Pulse, Length: 169, dtype: int64"
      ]
     },
     "execution_count": 101,
     "metadata": {},
     "output_type": "execute_result"
    }
   ],
   "source": [
    "df1.iloc[:, 1]"
   ]
  },
  {
   "cell_type": "code",
   "execution_count": 107,
   "id": "63bf8662-cc2c-461a-8051-8478cd32b231",
   "metadata": {},
   "outputs": [
    {
     "data": {
      "text/html": [
       "<div>\n",
       "<style scoped>\n",
       "    .dataframe tbody tr th:only-of-type {\n",
       "        vertical-align: middle;\n",
       "    }\n",
       "\n",
       "    .dataframe tbody tr th {\n",
       "        vertical-align: top;\n",
       "    }\n",
       "\n",
       "    .dataframe thead th {\n",
       "        text-align: right;\n",
       "    }\n",
       "</style>\n",
       "<table border=\"1\" class=\"dataframe\">\n",
       "  <thead>\n",
       "    <tr style=\"text-align: right;\">\n",
       "      <th></th>\n",
       "      <th>Pulse</th>\n",
       "      <th>Maxpulse</th>\n",
       "    </tr>\n",
       "  </thead>\n",
       "  <tbody>\n",
       "    <tr>\n",
       "      <th>11</th>\n",
       "      <td>100</td>\n",
       "      <td>120</td>\n",
       "    </tr>\n",
       "    <tr>\n",
       "      <th>12</th>\n",
       "      <td>106</td>\n",
       "      <td>128</td>\n",
       "    </tr>\n",
       "    <tr>\n",
       "      <th>13</th>\n",
       "      <td>104</td>\n",
       "      <td>132</td>\n",
       "    </tr>\n",
       "    <tr>\n",
       "      <th>14</th>\n",
       "      <td>98</td>\n",
       "      <td>123</td>\n",
       "    </tr>\n",
       "    <tr>\n",
       "      <th>15</th>\n",
       "      <td>98</td>\n",
       "      <td>120</td>\n",
       "    </tr>\n",
       "  </tbody>\n",
       "</table>\n",
       "</div>"
      ],
      "text/plain": [
       "    Pulse  Maxpulse\n",
       "11    100       120\n",
       "12    106       128\n",
       "13    104       132\n",
       "14     98       123\n",
       "15     98       120"
      ]
     },
     "execution_count": 107,
     "metadata": {},
     "output_type": "execute_result"
    }
   ],
   "source": [
    "df1.loc[11:15,['Pulse','Maxpulse']]"
   ]
  },
  {
   "cell_type": "code",
   "execution_count": 109,
   "id": "6c58e8e0-69a9-49c7-859e-120e91229a9c",
   "metadata": {},
   "outputs": [
    {
     "data": {
      "text/html": [
       "<div>\n",
       "<style scoped>\n",
       "    .dataframe tbody tr th:only-of-type {\n",
       "        vertical-align: middle;\n",
       "    }\n",
       "\n",
       "    .dataframe tbody tr th {\n",
       "        vertical-align: top;\n",
       "    }\n",
       "\n",
       "    .dataframe thead th {\n",
       "        text-align: right;\n",
       "    }\n",
       "</style>\n",
       "<table border=\"1\" class=\"dataframe\">\n",
       "  <thead>\n",
       "    <tr style=\"text-align: right;\">\n",
       "      <th></th>\n",
       "      <th>Duration</th>\n",
       "      <th>Pulse</th>\n",
       "    </tr>\n",
       "  </thead>\n",
       "  <tbody>\n",
       "    <tr>\n",
       "      <th>1</th>\n",
       "      <td>60</td>\n",
       "      <td>117</td>\n",
       "    </tr>\n",
       "    <tr>\n",
       "      <th>2</th>\n",
       "      <td>60</td>\n",
       "      <td>103</td>\n",
       "    </tr>\n",
       "    <tr>\n",
       "      <th>3</th>\n",
       "      <td>45</td>\n",
       "      <td>109</td>\n",
       "    </tr>\n",
       "    <tr>\n",
       "      <th>4</th>\n",
       "      <td>45</td>\n",
       "      <td>117</td>\n",
       "    </tr>\n",
       "    <tr>\n",
       "      <th>5</th>\n",
       "      <td>60</td>\n",
       "      <td>102</td>\n",
       "    </tr>\n",
       "  </tbody>\n",
       "</table>\n",
       "</div>"
      ],
      "text/plain": [
       "   Duration  Pulse\n",
       "1        60    117\n",
       "2        60    103\n",
       "3        45    109\n",
       "4        45    117\n",
       "5        60    102"
      ]
     },
     "execution_count": 109,
     "metadata": {},
     "output_type": "execute_result"
    }
   ],
   "source": [
    "df1.iloc[1:6,[0,1]]"
   ]
  },
  {
   "cell_type": "code",
   "execution_count": 111,
   "id": "166ed43f-429c-48da-a21e-c1f1aa4ac279",
   "metadata": {},
   "outputs": [
    {
     "data": {
      "text/plain": [
       "1    60\n",
       "3    45\n",
       "5    60\n",
       "Name: Duration, dtype: int64"
      ]
     },
     "execution_count": 111,
     "metadata": {},
     "output_type": "execute_result"
    }
   ],
   "source": [
    "df1.iloc[1:6:2,0]"
   ]
  },
  {
   "cell_type": "code",
   "execution_count": 113,
   "id": "4b7408ed-2e99-41dd-87df-bd10f1cf6e2f",
   "metadata": {},
   "outputs": [
    {
     "data": {
      "text/plain": [
       "1    60\n",
       "3    45\n",
       "5    60\n",
       "Name: Duration, dtype: int64"
      ]
     },
     "execution_count": 113,
     "metadata": {},
     "output_type": "execute_result"
    }
   ],
   "source": [
    "df1.iloc[slice(1,6,2),0]"
   ]
  },
  {
   "cell_type": "code",
   "execution_count": 115,
   "id": "84b91df1-20b8-4fac-a936-8bf887ade21c",
   "metadata": {},
   "outputs": [
    {
     "data": {
      "text/plain": [
       "60"
      ]
     },
     "execution_count": 115,
     "metadata": {},
     "output_type": "execute_result"
    }
   ],
   "source": [
    "df1.at[12,'Duration']"
   ]
  },
  {
   "cell_type": "code",
   "execution_count": 119,
   "id": "667ecc1d-4cdb-477d-bb5d-208d7269df28",
   "metadata": {},
   "outputs": [
    {
     "data": {
      "text/plain": [
       "0      60\n",
       "1      60\n",
       "2      60\n",
       "3      45\n",
       "4      45\n",
       "       ..\n",
       "164    60\n",
       "165    60\n",
       "166    60\n",
       "167    75\n",
       "168    75\n",
       "Name: Duration, Length: 169, dtype: int64"
      ]
     },
     "execution_count": 119,
     "metadata": {},
     "output_type": "execute_result"
    }
   ],
   "source": [
    "df1.loc[:,'Duration']"
   ]
  },
  {
   "cell_type": "code",
   "execution_count": null,
   "id": "4689d52d-3c95-4d10-9765-e8eff73609f9",
   "metadata": {},
   "outputs": [],
   "source": []
  }
 ],
 "metadata": {
  "kernelspec": {
   "display_name": "Python [conda env:base] *",
   "language": "python",
   "name": "conda-base-py"
  },
  "language_info": {
   "codemirror_mode": {
    "name": "ipython",
    "version": 3
   },
   "file_extension": ".py",
   "mimetype": "text/x-python",
   "name": "python",
   "nbconvert_exporter": "python",
   "pygments_lexer": "ipython3",
   "version": "3.12.7"
  }
 },
 "nbformat": 4,
 "nbformat_minor": 5
}
