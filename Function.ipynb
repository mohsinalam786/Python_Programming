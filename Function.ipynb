{
 "cells": [
  {
   "cell_type": "code",
   "execution_count": 1,
   "id": "e010e4b8-16cd-49cf-b1b6-b2fe0e3032f4",
   "metadata": {},
   "outputs": [
    {
     "name": "stdin",
     "output_type": "stream",
     "text": [
      "Enter any number:  15\n",
      "Enter any number:  15\n",
      "Enter any number:  54\n",
      "Enter any number:  55\n",
      "Enter any number:  80\n",
      "Enter any number:  40\n"
     ]
    },
    {
     "name": "stdout",
     "output_type": "stream",
     "text": [
      "{'Even': [54, 80, 40], 'Odd': [15, 15, 55]}\n"
     ]
    }
   ],
   "source": [
    "#WAP to find even and odd numbers from a list.\n",
    "\n",
    "even=[]\n",
    "odd=[]\n",
    "for i in range(6):\n",
    "    n = int(input('Enter any number: '))\n",
    "    if n%2 == 0:\n",
    "        even.append(n)\n",
    "    else:\n",
    "        odd.append(n)\n",
    "\n",
    "d = {}\n",
    "d['Even']=even\n",
    "d['Odd']=odd\n",
    "print(d)"
   ]
  },
  {
   "cell_type": "code",
   "execution_count": 3,
   "id": "870c64c2-31b7-4d10-a8d8-36c2a067a754",
   "metadata": {},
   "outputs": [
    {
     "name": "stdout",
     "output_type": "stream",
     "text": [
      "Python is case sensitive\n"
     ]
    }
   ],
   "source": [
    "# Nested Function\n",
    "     \n",
    "\n",
    "def f1():\n",
    "   s='Python is case sensitive'\n",
    "   def f2():\n",
    "     print(s)\n",
    "   f2()\n",
    "\n",
    "f1()"
   ]
  },
  {
   "cell_type": "code",
   "execution_count": 5,
   "id": "fa6f02af-7ee9-4a49-86b5-09cafe89f916",
   "metadata": {},
   "outputs": [
    {
     "data": {
      "text/plain": [
       "24"
      ]
     },
     "execution_count": 5,
     "metadata": {},
     "output_type": "execute_result"
    }
   ],
   "source": [
    "#Recursive Function(Recursion)\n",
    "#It means that a function calls itself. This has the benefit of meaning that you can loop through data to reach a result.\n",
    "\n",
    "     \n",
    "\n",
    "# Factorial Number Recursive Function\n",
    "\n",
    "def fact(n):\n",
    "  if n==0:\n",
    "    return 1\n",
    "  else:\n",
    "    return n*fact(n-1)\n",
    "fact(4)"
   ]
  },
  {
   "cell_type": "code",
   "execution_count": 7,
   "id": "c4dad25d-177e-4551-af4b-58c87adac42a",
   "metadata": {},
   "outputs": [
    {
     "data": {
      "text/plain": [
       "55"
      ]
     },
     "execution_count": 7,
     "metadata": {},
     "output_type": "execute_result"
    }
   ],
   "source": [
    "# Fibonacci Number using recursion\n",
    "\n",
    "def fibonacci(n):\n",
    "  if n < 0:\n",
    "    raise ValueError(\"Input 0 or greater only!\")\n",
    "  fiblist = [0, 1]\n",
    "  for i in range(2,n+1):\n",
    "    fiblist.append(fiblist[i-1] + fiblist[i-2])\n",
    "  return fiblist[n]\n",
    "\n",
    "fibonacci(10)"
   ]
  },
  {
   "cell_type": "code",
   "execution_count": 9,
   "id": "da4ffd07-0cdb-4bca-9a21-03c09ee6ed0c",
   "metadata": {},
   "outputs": [
    {
     "name": "stdout",
     "output_type": "stream",
     "text": [
      "Hello from a function\n"
     ]
    }
   ],
   "source": [
    "# a function is defined using the def keyword:\n",
    "def my_function():\n",
    "\n",
    "      print(\"Hello from a function\")\n",
    "     \n",
    "\n",
    "#calling Function\n",
    "my_function()"
   ]
  },
  {
   "cell_type": "code",
   "execution_count": 11,
   "id": "4fd1959d-78c4-44fc-b753-22f2cb3c1367",
   "metadata": {},
   "outputs": [
    {
     "name": "stdout",
     "output_type": "stream",
     "text": [
      "Donald Trump\n",
      "ÄBC Trump\n"
     ]
    }
   ],
   "source": [
    "#Arguments\n",
    "#Information can be passed into functions as arguments.\n",
    "#Arguments are specified after the function name, inside the parentheses.\n",
    "def my_function(fname):\n",
    "  print(fname + \" Trump\")\n",
    "\n",
    "my_function(\"Donald\")\n",
    "my_function(\"ÄBC\")"
   ]
  },
  {
   "cell_type": "code",
   "execution_count": 13,
   "id": "1aff6fd6-2a8b-4740-92f9-c9309f7824ab",
   "metadata": {},
   "outputs": [
    {
     "name": "stdout",
     "output_type": "stream",
     "text": [
      "the number is even\n"
     ]
    }
   ],
   "source": [
    "def even_odd(num):\n",
    "     if num%2==0:\n",
    "      print(\"the number is even\")\n",
    "     else:\n",
    "       print(\"the number is odd\")\n",
    "     \n",
    "\n",
    "#call this function\n",
    "even_odd(24)"
   ]
  },
  {
   "cell_type": "code",
   "execution_count": 15,
   "id": "80ba1419-491d-479e-88dd-ef19a3c3a0b8",
   "metadata": {},
   "outputs": [
    {
     "data": {
      "text/plain": [
       "5"
      ]
     },
     "execution_count": 15,
     "metadata": {},
     "output_type": "execute_result"
    }
   ],
   "source": [
    "# Function with multiple parameters\n",
    "def add(a,b):\n",
    "    return a+b\n",
    "\n",
    "add(2,3)"
   ]
  },
  {
   "cell_type": "code",
   "execution_count": null,
   "id": "f273b167-e67c-4c07-adf6-357d5803be93",
   "metadata": {},
   "outputs": [],
   "source": []
  }
 ],
 "metadata": {
  "kernelspec": {
   "display_name": "Python [conda env:base] *",
   "language": "python",
   "name": "conda-base-py"
  },
  "language_info": {
   "codemirror_mode": {
    "name": "ipython",
    "version": 3
   },
   "file_extension": ".py",
   "mimetype": "text/x-python",
   "name": "python",
   "nbconvert_exporter": "python",
   "pygments_lexer": "ipython3",
   "version": "3.12.7"
  }
 },
 "nbformat": 4,
 "nbformat_minor": 5
}
