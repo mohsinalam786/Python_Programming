{
 "cells": [
  {
   "cell_type": "code",
   "execution_count": null,
   "id": "4d2079e9-4fc7-44e0-9543-4297ad1cc1f1",
   "metadata": {},
   "outputs": [],
   "source": [
    "# Installing Pandas\n",
    "pip install pandas\n",
    "     "
   ]
  },
  {
   "cell_type": "code",
   "execution_count": null,
   "id": "c56777a8-ddf9-49f7-a78e-0cce6cd0562f",
   "metadata": {},
   "outputs": [],
   "source": [
    "#Data Structure in Pandas\n",
    "#Series\n",
    "#DataFrame\n",
    "     "
   ]
  },
  {
   "cell_type": "code",
   "execution_count": 1,
   "id": "779267c8-1cde-42da-a342-718b25b5ef71",
   "metadata": {},
   "outputs": [
    {
     "name": "stdout",
     "output_type": "stream",
     "text": [
      "0    10\n",
      "1    20\n",
      "2    30\n",
      "dtype: int64\n"
     ]
    }
   ],
   "source": [
    "# Creation of Series\n",
    "import pandas as pd #import Pandas with alias pd\n",
    "series1 = pd.Series([10,20,30]) #create a Series\n",
    "print(series1) #Display the series\n",
    "     "
   ]
  },
  {
   "cell_type": "code",
   "execution_count": 3,
   "id": "41d930a0-5f30-44bc-9a79-8e3acf012e4f",
   "metadata": {},
   "outputs": [
    {
     "name": "stdout",
     "output_type": "stream",
     "text": [
      "3     Kavi\n",
      "5    Shyam\n",
      "1     Ravi\n",
      "dtype: object\n"
     ]
    }
   ],
   "source": [
    "#Example has a numeric index in random order.\n",
    "series2 = pd.Series([\"Kavi\",\"Shyam\",\"Ravi\"], index=[3,5,1])\n",
    "print(series2)"
   ]
  },
  {
   "cell_type": "code",
   "execution_count": 5,
   "id": "bb0abe17-841e-4752-b06b-908660e08ca3",
   "metadata": {},
   "outputs": [
    {
     "name": "stdout",
     "output_type": "stream",
     "text": [
      "0    1\n",
      "1    2\n",
      "2    3\n",
      "3    4\n",
      "dtype: int32\n"
     ]
    }
   ],
   "source": [
    "# Creation of Series from NumPy Arrays\n",
    "#Series from a one-dimensional (1D) NumPy array:\n",
    "import numpy as np # import NumPy with alias np\n",
    "import pandas as pd\n",
    "array1 = np.array([1,2,3,4])\n",
    "series3 = pd.Series(array1)\n",
    "print(series3)"
   ]
  },
  {
   "cell_type": "code",
   "execution_count": 7,
   "id": "d4b3fe2e-4972-48d4-bae7-1ee097332a06",
   "metadata": {},
   "outputs": [
    {
     "name": "stdout",
     "output_type": "stream",
     "text": [
      "Jan    1\n",
      "Feb    2\n",
      "Mar    3\n",
      "Apr    4\n",
      "dtype: int32\n"
     ]
    }
   ],
   "source": [
    "# we can use letters or strings as indices:\n",
    "series4 = pd.Series(array1, index = [\"Jan\",\"Feb\", \"Mar\", \"Apr\"])\n",
    "print(series4)\n",
    "     "
   ]
  },
  {
   "cell_type": "code",
   "execution_count": 9,
   "id": "7c594fd0-5a90-4b0b-bbc7-1268a098b55e",
   "metadata": {},
   "outputs": [
    {
     "name": "stdout",
     "output_type": "stream",
     "text": [
      "{'India': 'NewDelhi', 'UK': 'London', 'Japan': 'Tokyo'}\n"
     ]
    },
    {
     "data": {
      "text/plain": [
       "{'India': 'NewDelhi', 'UK': 'London', 'Japan': 'Tokyo'}"
      ]
     },
     "execution_count": 9,
     "metadata": {},
     "output_type": "execute_result"
    }
   ],
   "source": [
    "#Creation of Series from Dictionary\n",
    "dict1 = {'India': 'NewDelhi', 'UK':\n",
    "'London', 'Japan': 'Tokyo'}\n",
    "print(dict1) #Display the dictionary\n",
    "{'India': 'NewDelhi', 'UK': 'London', 'Japan':\n",
    "'Tokyo'}"
   ]
  },
  {
   "cell_type": "code",
   "execution_count": 11,
   "id": "951a95f1-7a7d-4f9a-8ad9-d849e95c72e9",
   "metadata": {},
   "outputs": [
    {
     "name": "stdout",
     "output_type": "stream",
     "text": [
      "India    NewDelhi\n",
      "UK         London\n",
      "Japan       Tokyo\n",
      "dtype: object\n"
     ]
    }
   ],
   "source": [
    "series8 = pd.Series(dict1)\n",
    "print(series8)\n",
    "     "
   ]
  },
  {
   "cell_type": "code",
   "execution_count": 13,
   "id": "56774669-009c-4846-909b-8b1cb28f9118",
   "metadata": {},
   "outputs": [
    {
     "data": {
      "text/plain": [
       "0    10\n",
       "1    20\n",
       "2    30\n",
       "dtype: int64"
      ]
     },
     "execution_count": 13,
     "metadata": {},
     "output_type": "execute_result"
    }
   ],
   "source": [
    "# Accessing Elements of a Series\n",
    "import pandas as pd\n",
    "seriesNum = pd.Series([10,20,30])\n",
    "seriesNum\n",
    "     "
   ]
  },
  {
   "cell_type": "code",
   "execution_count": 15,
   "id": "7f42b256-227f-471e-91d9-c92619ba0c33",
   "metadata": {},
   "outputs": [
    {
     "data": {
      "text/plain": [
       "3"
      ]
     },
     "execution_count": 15,
     "metadata": {},
     "output_type": "execute_result"
    }
   ],
   "source": [
    "seriesMnths = pd.Series([2,3,4],index=[\"Feb\",\"Mar\",\"Apr\"])\n",
    "seriesMnths[\"Mar\"]\n",
    "     "
   ]
  },
  {
   "cell_type": "code",
   "execution_count": 17,
   "id": "718daacb-a5b3-4470-82f9-341bdd2df7a9",
   "metadata": {},
   "outputs": [
    {
     "data": {
      "text/plain": [
       "India         NewDelhi\n",
       "USA       WashingtonDC\n",
       "UK              London\n",
       "France           Paris\n",
       "dtype: object"
      ]
     },
     "execution_count": 17,
     "metadata": {},
     "output_type": "execute_result"
    }
   ],
   "source": [
    "#Slicing\n",
    "seriesCapCntry = pd.Series(['NewDelhi', 'WashingtonDC', 'London','Paris'], index=['India', 'USA', 'UK', 'France'])\n",
    "seriesCapCntry\n",
    "     "
   ]
  },
  {
   "cell_type": "code",
   "execution_count": 19,
   "id": "dca0581f-27f2-4f86-9590-f0b64ab7a30a",
   "metadata": {},
   "outputs": [
    {
     "data": {
      "text/plain": [
       "USA    WashingtonDC\n",
       "UK           London\n",
       "dtype: object"
      ]
     },
     "execution_count": 19,
     "metadata": {},
     "output_type": "execute_result"
    }
   ],
   "source": [
    "\n",
    "seriesCapCntry[1:3]"
   ]
  },
  {
   "cell_type": "code",
   "execution_count": 21,
   "id": "555cef84-299c-44d4-aef0-7e670bd8eacf",
   "metadata": {},
   "outputs": [
    {
     "name": "stdout",
     "output_type": "stream",
     "text": [
      "0    10\n",
      "1    11\n",
      "2    12\n",
      "3    13\n",
      "4    14\n",
      "5    15\n",
      "6    16\n",
      "7    17\n",
      "8    18\n",
      "9    19\n",
      "dtype: int32\n"
     ]
    }
   ],
   "source": [
    "#Methods of Series\n",
    "import numpy as np\n",
    "seriesTenTwenty=pd.Series(np.arange(10,20, 1 ))\n",
    "print(seriesTenTwenty)\n",
    "     "
   ]
  },
  {
   "cell_type": "code",
   "execution_count": 23,
   "id": "0d29aeac-140f-4667-ac05-3737ea3e0ec5",
   "metadata": {},
   "outputs": [
    {
     "data": {
      "text/plain": [
       "0    10\n",
       "1    11\n",
       "dtype: int32"
      ]
     },
     "execution_count": 23,
     "metadata": {},
     "output_type": "execute_result"
    }
   ],
   "source": [
    "seriesTenTwenty.head(2)"
   ]
  },
  {
   "cell_type": "code",
   "execution_count": 25,
   "id": "f19d2dbd-7af2-4c64-a709-5bbadeb8ee9d",
   "metadata": {},
   "outputs": [
    {
     "data": {
      "text/plain": [
       "10"
      ]
     },
     "execution_count": 25,
     "metadata": {},
     "output_type": "execute_result"
    }
   ],
   "source": [
    "seriesTenTwenty.count()"
   ]
  },
  {
   "cell_type": "code",
   "execution_count": 27,
   "id": "4f64aac6-91bd-40c4-9335-5c71a0f04dad",
   "metadata": {},
   "outputs": [
    {
     "data": {
      "text/plain": [
       "8    18\n",
       "9    19\n",
       "dtype: int32"
      ]
     },
     "execution_count": 27,
     "metadata": {},
     "output_type": "execute_result"
    }
   ],
   "source": [
    "\n",
    "seriesTenTwenty.tail(2)"
   ]
  },
  {
   "cell_type": "code",
   "execution_count": 29,
   "id": "6d85c840-9814-4568-b869-79742763bb8e",
   "metadata": {},
   "outputs": [
    {
     "data": {
      "text/plain": [
       "a    1\n",
       "b    2\n",
       "c    3\n",
       "d    4\n",
       "e    5\n",
       "dtype: int64"
      ]
     },
     "execution_count": 29,
     "metadata": {},
     "output_type": "execute_result"
    }
   ],
   "source": [
    "# Mathematical Operations on Series\n",
    "seriesA = pd.Series([1,2,3,4,5], index =['a', 'b', 'c', 'd', 'e'])\n",
    "seriesA"
   ]
  },
  {
   "cell_type": "code",
   "execution_count": 31,
   "id": "cdbd82c0-8d7c-4c2b-a516-b58642f7a792",
   "metadata": {},
   "outputs": [
    {
     "data": {
      "text/plain": [
       "z     10\n",
       "y     20\n",
       "a    -10\n",
       "c    -50\n",
       "e    100\n",
       "dtype: int64"
      ]
     },
     "execution_count": 31,
     "metadata": {},
     "output_type": "execute_result"
    }
   ],
   "source": [
    "seriesB = pd.Series([10,20,-10,-50,100],\n",
    "index = ['z', 'y', 'a', 'c', 'e'])\n",
    "seriesB"
   ]
  },
  {
   "cell_type": "code",
   "execution_count": 33,
   "id": "ac41f15b-a873-438d-b4d7-73eaf2eac163",
   "metadata": {},
   "outputs": [
    {
     "data": {
      "text/plain": [
       "a     -9.0\n",
       "b      NaN\n",
       "c    -47.0\n",
       "d      NaN\n",
       "e    105.0\n",
       "y      NaN\n",
       "z      NaN\n",
       "dtype: float64"
      ]
     },
     "execution_count": 33,
     "metadata": {},
     "output_type": "execute_result"
    }
   ],
   "source": [
    "#that the output of addition is NaN if one of the elements or both elements have no value.\n",
    "seriesA + seriesB\n",
    "     "
   ]
  },
  {
   "cell_type": "code",
   "execution_count": 35,
   "id": "ade407af-942d-47df-8a12-ce9ef702cc73",
   "metadata": {},
   "outputs": [
    {
     "data": {
      "text/plain": [
       "a    11.0\n",
       "b     NaN\n",
       "c    53.0\n",
       "d     NaN\n",
       "e   -95.0\n",
       "y     NaN\n",
       "z     NaN\n",
       "dtype: float64"
      ]
     },
     "execution_count": 35,
     "metadata": {},
     "output_type": "execute_result"
    }
   ],
   "source": [
    "#Subtraction of two Series\n",
    "seriesA - seriesB\n",
    "     "
   ]
  },
  {
   "cell_type": "code",
   "execution_count": 37,
   "id": "4a0997ce-eed2-48ce-b1dc-888e8ce015c7",
   "metadata": {},
   "outputs": [
    {
     "data": {
      "text/plain": [
       "a    -10.0\n",
       "b      NaN\n",
       "c   -150.0\n",
       "d      NaN\n",
       "e    500.0\n",
       "y      NaN\n",
       "z      NaN\n",
       "dtype: float64"
      ]
     },
     "execution_count": 37,
     "metadata": {},
     "output_type": "execute_result"
    }
   ],
   "source": [
    "#Multiplication of two Series\n",
    "seriesA * seriesB"
   ]
  },
  {
   "cell_type": "code",
   "execution_count": 39,
   "id": "428aab25-6fb9-4ad9-899b-9bfecfed9278",
   "metadata": {},
   "outputs": [
    {
     "data": {
      "text/plain": [
       "a   -0.10\n",
       "b     NaN\n",
       "c   -0.06\n",
       "d     NaN\n",
       "e    0.05\n",
       "y     NaN\n",
       "z     NaN\n",
       "dtype: float64"
      ]
     },
     "execution_count": 39,
     "metadata": {},
     "output_type": "execute_result"
    }
   ],
   "source": [
    "# Division of two Series\n",
    "seriesA/seriesB"
   ]
  },
  {
   "cell_type": "code",
   "execution_count": 41,
   "id": "39cdec68-114f-4135-89b3-c6fad889a531",
   "metadata": {},
   "outputs": [
    {
     "data": {
      "text/html": [
       "<div>\n",
       "<style scoped>\n",
       "    .dataframe tbody tr th:only-of-type {\n",
       "        vertical-align: middle;\n",
       "    }\n",
       "\n",
       "    .dataframe tbody tr th {\n",
       "        vertical-align: top;\n",
       "    }\n",
       "\n",
       "    .dataframe thead th {\n",
       "        text-align: right;\n",
       "    }\n",
       "</style>\n",
       "<table border=\"1\" class=\"dataframe\">\n",
       "  <thead>\n",
       "    <tr style=\"text-align: right;\">\n",
       "      <th></th>\n",
       "      <th>0</th>\n",
       "    </tr>\n",
       "  </thead>\n",
       "  <tbody>\n",
       "    <tr>\n",
       "      <th>0</th>\n",
       "      <td>10</td>\n",
       "    </tr>\n",
       "    <tr>\n",
       "      <th>1</th>\n",
       "      <td>20</td>\n",
       "    </tr>\n",
       "    <tr>\n",
       "      <th>2</th>\n",
       "      <td>30</td>\n",
       "    </tr>\n",
       "  </tbody>\n",
       "</table>\n",
       "</div>"
      ],
      "text/plain": [
       "    0\n",
       "0  10\n",
       "1  20\n",
       "2  30"
      ]
     },
     "execution_count": 41,
     "metadata": {},
     "output_type": "execute_result"
    }
   ],
   "source": [
    "# Creation of DataFrame\n",
    "# Creation of DataFrame from NumPy ndarrays\n",
    "import numpy as np\n",
    "array1 = np.array([10,20,30])\n",
    "array2 = np.array([100,200,300])\n",
    "array3 = np.array([-10,-20,-30, -40])\n",
    "dFrame4 = pd.DataFrame(array1)\n",
    "dFrame4"
   ]
  },
  {
   "cell_type": "code",
   "execution_count": 43,
   "id": "99e6ab83-b881-4c4d-b6e7-4807f2fda615",
   "metadata": {},
   "outputs": [
    {
     "data": {
      "text/html": [
       "<div>\n",
       "<style scoped>\n",
       "    .dataframe tbody tr th:only-of-type {\n",
       "        vertical-align: middle;\n",
       "    }\n",
       "\n",
       "    .dataframe tbody tr th {\n",
       "        vertical-align: top;\n",
       "    }\n",
       "\n",
       "    .dataframe thead th {\n",
       "        text-align: right;\n",
       "    }\n",
       "</style>\n",
       "<table border=\"1\" class=\"dataframe\">\n",
       "  <thead>\n",
       "    <tr style=\"text-align: right;\">\n",
       "      <th></th>\n",
       "      <th>a</th>\n",
       "      <th>b</th>\n",
       "      <th>c</th>\n",
       "    </tr>\n",
       "  </thead>\n",
       "  <tbody>\n",
       "    <tr>\n",
       "      <th>0</th>\n",
       "      <td>10</td>\n",
       "      <td>20</td>\n",
       "      <td>NaN</td>\n",
       "    </tr>\n",
       "    <tr>\n",
       "      <th>1</th>\n",
       "      <td>5</td>\n",
       "      <td>10</td>\n",
       "      <td>20.0</td>\n",
       "    </tr>\n",
       "  </tbody>\n",
       "</table>\n",
       "</div>"
      ],
      "text/plain": [
       "    a   b     c\n",
       "0  10  20   NaN\n",
       "1   5  10  20.0"
      ]
     },
     "execution_count": 43,
     "metadata": {},
     "output_type": "execute_result"
    }
   ],
   "source": [
    "#Creation of DataFrame from List of Dictionaries\n",
    "listDict = [{'a':10, 'b':20}, {'a':5,'b':10, 'c':20}]\n",
    "dFrameListDict = pd.DataFrame(listDict)\n",
    "dFrameListDict\n",
    "     "
   ]
  },
  {
   "cell_type": "code",
   "execution_count": 45,
   "id": "33304777-0de9-4554-b5f3-2e96d7b76230",
   "metadata": {},
   "outputs": [
    {
     "data": {
      "text/html": [
       "<div>\n",
       "<style scoped>\n",
       "    .dataframe tbody tr th:only-of-type {\n",
       "        vertical-align: middle;\n",
       "    }\n",
       "\n",
       "    .dataframe tbody tr th {\n",
       "        vertical-align: top;\n",
       "    }\n",
       "\n",
       "    .dataframe thead th {\n",
       "        text-align: right;\n",
       "    }\n",
       "</style>\n",
       "<table border=\"1\" class=\"dataframe\">\n",
       "  <thead>\n",
       "    <tr style=\"text-align: right;\">\n",
       "      <th></th>\n",
       "      <th>0</th>\n",
       "    </tr>\n",
       "  </thead>\n",
       "  <tbody>\n",
       "    <tr>\n",
       "      <th>a</th>\n",
       "      <td>1</td>\n",
       "    </tr>\n",
       "    <tr>\n",
       "      <th>b</th>\n",
       "      <td>2</td>\n",
       "    </tr>\n",
       "    <tr>\n",
       "      <th>c</th>\n",
       "      <td>3</td>\n",
       "    </tr>\n",
       "    <tr>\n",
       "      <th>d</th>\n",
       "      <td>4</td>\n",
       "    </tr>\n",
       "    <tr>\n",
       "      <th>e</th>\n",
       "      <td>5</td>\n",
       "    </tr>\n",
       "  </tbody>\n",
       "</table>\n",
       "</div>"
      ],
      "text/plain": [
       "   0\n",
       "a  1\n",
       "b  2\n",
       "c  3\n",
       "d  4\n",
       "e  5"
      ]
     },
     "execution_count": 45,
     "metadata": {},
     "output_type": "execute_result"
    }
   ],
   "source": [
    "#Creation of DataFrame from Series\n",
    "seriesA = pd.Series([1,2,3,4,5],index = ['a', 'b', 'c', 'd', 'e'])\n",
    "seriesB = pd.Series ([1000,2000,-1000,-5000,1000],index = ['a', 'b', 'c', 'd', 'e'])\n",
    "seriesC = pd.Series([10,20,-10,-50,100],index = ['z', 'y', 'a', 'c', 'e'])\n",
    "\n",
    "dFrame6 = pd.DataFrame(seriesA)\n",
    "dFrame6"
   ]
  },
  {
   "cell_type": "code",
   "execution_count": 47,
   "id": "052bf012-e8d6-4547-a287-0f4a986c0c55",
   "metadata": {},
   "outputs": [
    {
     "data": {
      "text/html": [
       "<div>\n",
       "<style scoped>\n",
       "    .dataframe tbody tr th:only-of-type {\n",
       "        vertical-align: middle;\n",
       "    }\n",
       "\n",
       "    .dataframe tbody tr th {\n",
       "        vertical-align: top;\n",
       "    }\n",
       "\n",
       "    .dataframe thead th {\n",
       "        text-align: right;\n",
       "    }\n",
       "</style>\n",
       "<table border=\"1\" class=\"dataframe\">\n",
       "  <thead>\n",
       "    <tr style=\"text-align: right;\">\n",
       "      <th></th>\n",
       "      <th>a</th>\n",
       "      <th>b</th>\n",
       "      <th>c</th>\n",
       "      <th>d</th>\n",
       "      <th>e</th>\n",
       "    </tr>\n",
       "  </thead>\n",
       "  <tbody>\n",
       "    <tr>\n",
       "      <th>0</th>\n",
       "      <td>1</td>\n",
       "      <td>2</td>\n",
       "      <td>3</td>\n",
       "      <td>4</td>\n",
       "      <td>5</td>\n",
       "    </tr>\n",
       "    <tr>\n",
       "      <th>1</th>\n",
       "      <td>1000</td>\n",
       "      <td>2000</td>\n",
       "      <td>-1000</td>\n",
       "      <td>-5000</td>\n",
       "      <td>1000</td>\n",
       "    </tr>\n",
       "  </tbody>\n",
       "</table>\n",
       "</div>"
      ],
      "text/plain": [
       "      a     b     c     d     e\n",
       "0     1     2     3     4     5\n",
       "1  1000  2000 -1000 -5000  1000"
      ]
     },
     "execution_count": 47,
     "metadata": {},
     "output_type": "execute_result"
    }
   ],
   "source": [
    "dFrame7 = pd.DataFrame([seriesA, seriesB])\n",
    "dFrame7\n",
    "     "
   ]
  },
  {
   "cell_type": "code",
   "execution_count": 49,
   "id": "4b0371f4-2032-4cf2-acbb-04db2e0727e1",
   "metadata": {},
   "outputs": [
    {
     "data": {
      "text/html": [
       "<div>\n",
       "<style scoped>\n",
       "    .dataframe tbody tr th:only-of-type {\n",
       "        vertical-align: middle;\n",
       "    }\n",
       "\n",
       "    .dataframe tbody tr th {\n",
       "        vertical-align: top;\n",
       "    }\n",
       "\n",
       "    .dataframe thead th {\n",
       "        text-align: right;\n",
       "    }\n",
       "</style>\n",
       "<table border=\"1\" class=\"dataframe\">\n",
       "  <thead>\n",
       "    <tr style=\"text-align: right;\">\n",
       "      <th></th>\n",
       "      <th>Arnab</th>\n",
       "      <th>Ramit</th>\n",
       "      <th>Sahir</th>\n",
       "      <th>Riya</th>\n",
       "      <th>Mallika</th>\n",
       "    </tr>\n",
       "  </thead>\n",
       "  <tbody>\n",
       "    <tr>\n",
       "      <th>Maths</th>\n",
       "      <td>90</td>\n",
       "      <td>92</td>\n",
       "      <td>89</td>\n",
       "      <td>81</td>\n",
       "      <td>94</td>\n",
       "    </tr>\n",
       "    <tr>\n",
       "      <th>Science</th>\n",
       "      <td>91</td>\n",
       "      <td>81</td>\n",
       "      <td>91</td>\n",
       "      <td>71</td>\n",
       "      <td>95</td>\n",
       "    </tr>\n",
       "    <tr>\n",
       "      <th>Hindi</th>\n",
       "      <td>97</td>\n",
       "      <td>96</td>\n",
       "      <td>88</td>\n",
       "      <td>67</td>\n",
       "      <td>99</td>\n",
       "    </tr>\n",
       "  </tbody>\n",
       "</table>\n",
       "</div>"
      ],
      "text/plain": [
       "         Arnab  Ramit  Sahir  Riya  Mallika\n",
       "Maths       90     92     89    81       94\n",
       "Science     91     81     91    71       95\n",
       "Hindi       97     96     88    67       99"
      ]
     },
     "execution_count": 49,
     "metadata": {},
     "output_type": "execute_result"
    }
   ],
   "source": [
    "# Creation of DataFrame from Dictionary of Series\n",
    "ResultSheet={'Arnab': pd.Series([90, 91, 97],index=['Maths','Science','Hindi']),\n",
    "'Ramit': pd.Series([92, 81, 96],index=['Maths','Science','Hindi']),\n",
    "'Sahir': pd.Series([89, 91, 88],index=['Maths','Science','Hindi']),\n",
    "'Riya': pd.Series([81, 71, 67],index=['Maths','Science','Hindi']),\n",
    "'Mallika': pd.Series([94, 95, 99],index=['Maths','Science','Hindi'])}\n",
    "ResultDF = pd.DataFrame(ResultSheet)\n",
    "ResultDF\n"
   ]
  },
  {
   "cell_type": "code",
   "execution_count": 51,
   "id": "9cc04e0e-8040-416c-800f-6c7157d13bec",
   "metadata": {},
   "outputs": [
    {
     "data": {
      "text/html": [
       "<div>\n",
       "<style scoped>\n",
       "    .dataframe tbody tr th:only-of-type {\n",
       "        vertical-align: middle;\n",
       "    }\n",
       "\n",
       "    .dataframe tbody tr th {\n",
       "        vertical-align: top;\n",
       "    }\n",
       "\n",
       "    .dataframe thead th {\n",
       "        text-align: right;\n",
       "    }\n",
       "</style>\n",
       "<table border=\"1\" class=\"dataframe\">\n",
       "  <thead>\n",
       "    <tr style=\"text-align: right;\">\n",
       "      <th></th>\n",
       "      <th>Arnab</th>\n",
       "      <th>Ramit</th>\n",
       "      <th>Sahir</th>\n",
       "      <th>Riya</th>\n",
       "      <th>Mallika</th>\n",
       "      <th>Jimmy</th>\n",
       "    </tr>\n",
       "  </thead>\n",
       "  <tbody>\n",
       "    <tr>\n",
       "      <th>Maths</th>\n",
       "      <td>90</td>\n",
       "      <td>92</td>\n",
       "      <td>89</td>\n",
       "      <td>81</td>\n",
       "      <td>94</td>\n",
       "      <td>89</td>\n",
       "    </tr>\n",
       "    <tr>\n",
       "      <th>Science</th>\n",
       "      <td>91</td>\n",
       "      <td>81</td>\n",
       "      <td>91</td>\n",
       "      <td>71</td>\n",
       "      <td>95</td>\n",
       "      <td>78</td>\n",
       "    </tr>\n",
       "    <tr>\n",
       "      <th>Hindi</th>\n",
       "      <td>97</td>\n",
       "      <td>96</td>\n",
       "      <td>88</td>\n",
       "      <td>67</td>\n",
       "      <td>99</td>\n",
       "      <td>76</td>\n",
       "    </tr>\n",
       "  </tbody>\n",
       "</table>\n",
       "</div>"
      ],
      "text/plain": [
       "         Arnab  Ramit  Sahir  Riya  Mallika  Jimmy\n",
       "Maths       90     92     89    81       94     89\n",
       "Science     91     81     91    71       95     78\n",
       "Hindi       97     96     88    67       99     76"
      ]
     },
     "execution_count": 51,
     "metadata": {},
     "output_type": "execute_result"
    }
   ],
   "source": [
    "#Operations on rows and columns in DataFrames\n",
    "#Adding a New Column to a DataFrame\n",
    "ResultDF['Jimmy']=[89,78,76]\n",
    "ResultDF\n",
    "     "
   ]
  },
  {
   "cell_type": "code",
   "execution_count": 53,
   "id": "a587af4d-6144-4466-93a5-075e5fcac659",
   "metadata": {},
   "outputs": [
    {
     "ename": "ValueError",
     "evalue": "cannot set a row with mismatched columns",
     "output_type": "error",
     "traceback": [
      "\u001b[1;31m---------------------------------------------------------------------------\u001b[0m",
      "\u001b[1;31mValueError\u001b[0m                                Traceback (most recent call last)",
      "Cell \u001b[1;32mIn[53], line 3\u001b[0m\n\u001b[0;32m      1\u001b[0m \u001b[38;5;66;03m#Adding a New Row to a DataFrame\u001b[39;00m\n\u001b[0;32m      2\u001b[0m \u001b[38;5;66;03m#DataFRame.loc[] method can also be used to change the data values of a row to a particular value.\u001b[39;00m\n\u001b[1;32m----> 3\u001b[0m ResultDF\u001b[38;5;241m.\u001b[39mloc[\u001b[38;5;124m'\u001b[39m\u001b[38;5;124mEnglish\u001b[39m\u001b[38;5;124m'\u001b[39m] \u001b[38;5;241m=\u001b[39m [\u001b[38;5;241m85\u001b[39m, \u001b[38;5;241m86\u001b[39m, \u001b[38;5;241m83\u001b[39m, \u001b[38;5;241m80\u001b[39m, \u001b[38;5;241m90\u001b[39m, \u001b[38;5;241m89\u001b[39m,\u001b[38;5;241m82\u001b[39m]\n\u001b[0;32m      4\u001b[0m ResultDF\n",
      "File \u001b[1;32m~\\anaconda3\\Lib\\site-packages\\pandas\\core\\indexing.py:911\u001b[0m, in \u001b[0;36m_LocationIndexer.__setitem__\u001b[1;34m(self, key, value)\u001b[0m\n\u001b[0;32m    908\u001b[0m \u001b[38;5;28mself\u001b[39m\u001b[38;5;241m.\u001b[39m_has_valid_setitem_indexer(key)\n\u001b[0;32m    910\u001b[0m iloc \u001b[38;5;241m=\u001b[39m \u001b[38;5;28mself\u001b[39m \u001b[38;5;28;01mif\u001b[39;00m \u001b[38;5;28mself\u001b[39m\u001b[38;5;241m.\u001b[39mname \u001b[38;5;241m==\u001b[39m \u001b[38;5;124m\"\u001b[39m\u001b[38;5;124miloc\u001b[39m\u001b[38;5;124m\"\u001b[39m \u001b[38;5;28;01melse\u001b[39;00m \u001b[38;5;28mself\u001b[39m\u001b[38;5;241m.\u001b[39mobj\u001b[38;5;241m.\u001b[39miloc\n\u001b[1;32m--> 911\u001b[0m iloc\u001b[38;5;241m.\u001b[39m_setitem_with_indexer(indexer, value, \u001b[38;5;28mself\u001b[39m\u001b[38;5;241m.\u001b[39mname)\n",
      "File \u001b[1;32m~\\anaconda3\\Lib\\site-packages\\pandas\\core\\indexing.py:1932\u001b[0m, in \u001b[0;36m_iLocIndexer._setitem_with_indexer\u001b[1;34m(self, indexer, value, name)\u001b[0m\n\u001b[0;32m   1929\u001b[0m     indexer, missing \u001b[38;5;241m=\u001b[39m convert_missing_indexer(indexer)\n\u001b[0;32m   1931\u001b[0m     \u001b[38;5;28;01mif\u001b[39;00m missing:\n\u001b[1;32m-> 1932\u001b[0m         \u001b[38;5;28mself\u001b[39m\u001b[38;5;241m.\u001b[39m_setitem_with_indexer_missing(indexer, value)\n\u001b[0;32m   1933\u001b[0m         \u001b[38;5;28;01mreturn\u001b[39;00m\n\u001b[0;32m   1935\u001b[0m \u001b[38;5;28;01mif\u001b[39;00m name \u001b[38;5;241m==\u001b[39m \u001b[38;5;124m\"\u001b[39m\u001b[38;5;124mloc\u001b[39m\u001b[38;5;124m\"\u001b[39m:\n\u001b[0;32m   1936\u001b[0m     \u001b[38;5;66;03m# must come after setting of missing\u001b[39;00m\n",
      "File \u001b[1;32m~\\anaconda3\\Lib\\site-packages\\pandas\\core\\indexing.py:2306\u001b[0m, in \u001b[0;36m_iLocIndexer._setitem_with_indexer_missing\u001b[1;34m(self, indexer, value)\u001b[0m\n\u001b[0;32m   2303\u001b[0m     \u001b[38;5;28;01mif\u001b[39;00m is_list_like_indexer(value):\n\u001b[0;32m   2304\u001b[0m         \u001b[38;5;66;03m# must have conforming columns\u001b[39;00m\n\u001b[0;32m   2305\u001b[0m         \u001b[38;5;28;01mif\u001b[39;00m \u001b[38;5;28mlen\u001b[39m(value) \u001b[38;5;241m!=\u001b[39m \u001b[38;5;28mlen\u001b[39m(\u001b[38;5;28mself\u001b[39m\u001b[38;5;241m.\u001b[39mobj\u001b[38;5;241m.\u001b[39mcolumns):\n\u001b[1;32m-> 2306\u001b[0m             \u001b[38;5;28;01mraise\u001b[39;00m \u001b[38;5;167;01mValueError\u001b[39;00m(\u001b[38;5;124m\"\u001b[39m\u001b[38;5;124mcannot set a row with mismatched columns\u001b[39m\u001b[38;5;124m\"\u001b[39m)\n\u001b[0;32m   2308\u001b[0m     value \u001b[38;5;241m=\u001b[39m Series(value, index\u001b[38;5;241m=\u001b[39m\u001b[38;5;28mself\u001b[39m\u001b[38;5;241m.\u001b[39mobj\u001b[38;5;241m.\u001b[39mcolumns, name\u001b[38;5;241m=\u001b[39mindexer)\n\u001b[0;32m   2310\u001b[0m \u001b[38;5;28;01mif\u001b[39;00m \u001b[38;5;129;01mnot\u001b[39;00m \u001b[38;5;28mlen\u001b[39m(\u001b[38;5;28mself\u001b[39m\u001b[38;5;241m.\u001b[39mobj):\n\u001b[0;32m   2311\u001b[0m     \u001b[38;5;66;03m# We will ignore the existing dtypes instead of using\u001b[39;00m\n\u001b[0;32m   2312\u001b[0m     \u001b[38;5;66;03m#  internals.concat logic\u001b[39;00m\n",
      "\u001b[1;31mValueError\u001b[0m: cannot set a row with mismatched columns"
     ]
    }
   ],
   "source": [
    "#Adding a New Row to a DataFrame\n",
    "#DataFRame.loc[] method can also be used to change the data values of a row to a particular value.\n",
    "ResultDF.loc['English'] = [85, 86, 83, 80, 90, 89,82]\n",
    "ResultDF\n",
    "     "
   ]
  },
  {
   "cell_type": "code",
   "execution_count": 55,
   "id": "1f6f37cc-ad5d-4267-b04c-a8fdfff0b37d",
   "metadata": {},
   "outputs": [
    {
     "data": {
      "text/html": [
       "<div>\n",
       "<style scoped>\n",
       "    .dataframe tbody tr th:only-of-type {\n",
       "        vertical-align: middle;\n",
       "    }\n",
       "\n",
       "    .dataframe tbody tr th {\n",
       "        vertical-align: top;\n",
       "    }\n",
       "\n",
       "    .dataframe thead th {\n",
       "        text-align: right;\n",
       "    }\n",
       "</style>\n",
       "<table border=\"1\" class=\"dataframe\">\n",
       "  <thead>\n",
       "    <tr style=\"text-align: right;\">\n",
       "      <th></th>\n",
       "      <th>Arnab</th>\n",
       "      <th>Ramit</th>\n",
       "      <th>Sahir</th>\n",
       "      <th>Riya</th>\n",
       "      <th>Mallika</th>\n",
       "      <th>Jimmy</th>\n",
       "    </tr>\n",
       "  </thead>\n",
       "  <tbody>\n",
       "    <tr>\n",
       "      <th>Maths</th>\n",
       "      <td>90</td>\n",
       "      <td>92</td>\n",
       "      <td>89</td>\n",
       "      <td>81</td>\n",
       "      <td>94</td>\n",
       "      <td>89</td>\n",
       "    </tr>\n",
       "    <tr>\n",
       "      <th>Hindi</th>\n",
       "      <td>97</td>\n",
       "      <td>96</td>\n",
       "      <td>88</td>\n",
       "      <td>67</td>\n",
       "      <td>99</td>\n",
       "      <td>76</td>\n",
       "    </tr>\n",
       "  </tbody>\n",
       "</table>\n",
       "</div>"
      ],
      "text/plain": [
       "       Arnab  Ramit  Sahir  Riya  Mallika  Jimmy\n",
       "Maths     90     92     89    81       94     89\n",
       "Hindi     97     96     88    67       99     76"
      ]
     },
     "execution_count": 55,
     "metadata": {},
     "output_type": "execute_result"
    }
   ],
   "source": [
    "\n",
    "#Deleting Rows or Columns from a DataFrame\n",
    "#delete the row with label 'Science'\n",
    "ResultDF = ResultDF.drop('Science', axis=0)\n",
    "ResultDF"
   ]
  },
  {
   "cell_type": "code",
   "execution_count": null,
   "id": "fe9937f8-5ec2-4cea-80b1-79c7981efecf",
   "metadata": {},
   "outputs": [],
   "source": []
  }
 ],
 "metadata": {
  "kernelspec": {
   "display_name": "Python [conda env:base] *",
   "language": "python",
   "name": "conda-base-py"
  },
  "language_info": {
   "codemirror_mode": {
    "name": "ipython",
    "version": 3
   },
   "file_extension": ".py",
   "mimetype": "text/x-python",
   "name": "python",
   "nbconvert_exporter": "python",
   "pygments_lexer": "ipython3",
   "version": "3.12.7"
  }
 },
 "nbformat": 4,
 "nbformat_minor": 5
}
